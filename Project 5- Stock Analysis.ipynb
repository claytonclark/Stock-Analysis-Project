{
 "cells": [
  {
   "cell_type": "code",
   "execution_count": 1,
   "metadata": {},
   "outputs": [
    {
     "data": {
      "text/html": [
       "<style>\n",
       "table {float:left}\n",
       "</style>\n"
      ],
      "text/plain": [
       "<IPython.core.display.HTML object>"
      ]
     },
     "metadata": {},
     "output_type": "display_data"
    }
   ],
   "source": [
    "%%html\n",
    "<style>\n",
    "table {float:left}\n",
    "</style>"
   ]
  },
  {
   "cell_type": "markdown",
   "metadata": {},
   "source": [
    "# **Project #5: Stock Analysis** \n",
    " --------------------------------------\n",
    "### Working to find the best times to buy and sell a given stock\n",
    "We will be working on this project until the end of the semester. There must be at least a total of 3 trades made throughout each week. The timeline chart will be updated as time goes by to keep track of the trades made in a given week\n",
    "#### TimeLine:\n",
    "\n",
    "| Week | Buy/Sell | Ticker | QTY | Price        |\n",
    "| :--: | :------: | -----: | --: | -----------: |\n",
    "| 1    |    Buy   |  DAL   | 10  |   \\$46.78    |\n",
    "| 1    |    Buy   |  BAC   | 10  |   \\$40.66    |\n",
    "| 1    |    Buy   |  MS    | 10  |   \\$82.33    |\n",
    "| 1    |    Buy   |  BBY   | 10  |  \\$116.64    |\n",
    "| 1    |    Buy   |  XM    | 15  |  \\$37.85     |\n",
    "| 1    |    Buy   |  PAYC  | 10  |  \\$384.87    |\n",
    "| 1    |    Buy   |  NXPI  | 15  |  \\$192.55    |\n",
    "| 1    |    Buy   |  NVDA  | 10  |  \\$603.40    |\n",
    "\n"
   ]
  },
  {
   "cell_type": "markdown",
   "metadata": {},
   "source": [
    "#### What do we know??\n",
    "- Market is open at 9:30 a.m. to 4:00 p.m. Eastern time (6:30 a.m. to 1:00 p.m. PST). That is a total of 6.5 hours per day. There is room for some before and after hours trading depending on the market you are trading in. More Information at this link: https://investmentu.com/what-time-does-the-stock-market-open/\n",
    "-  \n",
    "\n",
    "#### Research about Stock Traders\n"
   ]
  },
  {
   "cell_type": "markdown",
   "metadata": {},
   "source": [
    "## Start of Analysis\n",
    "    To get started, I am trying to find some good stock that fits into the bullish market that we have. We want to trade some stocks that may be more violatile. We are given a time frame of about 3 to 4 weeks for this project and we want to try and maximize our profits. A good way to find stocks that fit this idea is to find stocks that are some of the most violatile. The BETA value can help deteremine whether a stock follows the normal market fluctuations. A beta lower than 1 indicates lower violatility, where higher than 1 indicates higher violatility when compared to the market as a whole. \n",
    "    \n",
    "    We want to process the data to retrieve only the name of the company and the beta values. We then want to get all the companies that have a beta more than 1 because that implies that they are more violatile."
   ]
  },
  {
   "cell_type": "code",
   "execution_count": 2,
   "metadata": {},
   "outputs": [],
   "source": [
    "import pandas as pd\n",
    "import matplotlib.pyplot as plt\n",
    "import datetime as dt\n",
    "import pandas_datareader.data as web\n",
    "from matplotlib import style"
   ]
  },
  {
   "cell_type": "code",
   "execution_count": 3,
   "metadata": {},
   "outputs": [
    {
     "data": {
      "text/html": [
       "<div>\n",
       "<style scoped>\n",
       "    .dataframe tbody tr th:only-of-type {\n",
       "        vertical-align: middle;\n",
       "    }\n",
       "\n",
       "    .dataframe tbody tr th {\n",
       "        vertical-align: top;\n",
       "    }\n",
       "\n",
       "    .dataframe thead th {\n",
       "        text-align: right;\n",
       "    }\n",
       "</style>\n",
       "<table border=\"1\" class=\"dataframe\">\n",
       "  <thead>\n",
       "    <tr style=\"text-align: right;\">\n",
       "      <th></th>\n",
       "      <th>Symbol</th>\n",
       "      <th>Name</th>\n",
       "      <th>Beta</th>\n",
       "    </tr>\n",
       "  </thead>\n",
       "  <tbody>\n",
       "    <tr>\n",
       "      <th>0</th>\n",
       "      <td>A</td>\n",
       "      <td>Agilent Technologies</td>\n",
       "      <td>1.01</td>\n",
       "    </tr>\n",
       "    <tr>\n",
       "      <th>1</th>\n",
       "      <td>AAL</td>\n",
       "      <td>American Airlines Gp</td>\n",
       "      <td>1.93</td>\n",
       "    </tr>\n",
       "    <tr>\n",
       "      <th>2</th>\n",
       "      <td>AAP</td>\n",
       "      <td>Advance Auto Parts Inc</td>\n",
       "      <td>1.36</td>\n",
       "    </tr>\n",
       "    <tr>\n",
       "      <th>3</th>\n",
       "      <td>AAPL</td>\n",
       "      <td>Apple Inc</td>\n",
       "      <td>1.22</td>\n",
       "    </tr>\n",
       "    <tr>\n",
       "      <th>6</th>\n",
       "      <td>ABMD</td>\n",
       "      <td>Abiomed Inc</td>\n",
       "      <td>1.31</td>\n",
       "    </tr>\n",
       "    <tr>\n",
       "      <th>...</th>\n",
       "      <td>...</td>\n",
       "      <td>...</td>\n",
       "      <td>...</td>\n",
       "    </tr>\n",
       "    <tr>\n",
       "      <th>499</th>\n",
       "      <td>XYL</td>\n",
       "      <td>Xylem Inc</td>\n",
       "      <td>1.03</td>\n",
       "    </tr>\n",
       "    <tr>\n",
       "      <th>500</th>\n",
       "      <td>YUM</td>\n",
       "      <td>Yum! Brands</td>\n",
       "      <td>1.08</td>\n",
       "    </tr>\n",
       "    <tr>\n",
       "      <th>501</th>\n",
       "      <td>ZBH</td>\n",
       "      <td>Zimmer Biomet Holdings</td>\n",
       "      <td>1.32</td>\n",
       "    </tr>\n",
       "    <tr>\n",
       "      <th>502</th>\n",
       "      <td>ZBRA</td>\n",
       "      <td>Zebra Technologies</td>\n",
       "      <td>1.63</td>\n",
       "    </tr>\n",
       "    <tr>\n",
       "      <th>503</th>\n",
       "      <td>ZION</td>\n",
       "      <td>Zions Bancorp</td>\n",
       "      <td>1.60</td>\n",
       "    </tr>\n",
       "  </tbody>\n",
       "</table>\n",
       "<p>288 rows × 3 columns</p>\n",
       "</div>"
      ],
      "text/plain": [
       "    Symbol                    Name  Beta\n",
       "0        A    Agilent Technologies  1.01\n",
       "1      AAL    American Airlines Gp  1.93\n",
       "2      AAP  Advance Auto Parts Inc  1.36\n",
       "3     AAPL               Apple Inc  1.22\n",
       "6     ABMD             Abiomed Inc  1.31\n",
       "..     ...                     ...   ...\n",
       "499    XYL               Xylem Inc  1.03\n",
       "500    YUM             Yum! Brands  1.08\n",
       "501    ZBH  Zimmer Biomet Holdings  1.32\n",
       "502   ZBRA      Zebra Technologies  1.63\n",
       "503   ZION           Zions Bancorp  1.60\n",
       "\n",
       "[288 rows x 3 columns]"
      ]
     },
     "execution_count": 3,
     "metadata": {},
     "output_type": "execute_result"
    }
   ],
   "source": [
    "data = pd.read_csv('sp-500-index-04-29-2021.csv')\n",
    "beta = data[['Symbol','Name', 'Beta']]\n",
    "beta = beta.loc[beta['Beta'] > 1]\n",
    "beta.head(500)"
   ]
  },
  {
   "cell_type": "markdown",
   "metadata": {},
   "source": [
    "       The rest of the data is then put into a histogram plot to better visualize the data\n",
    " "
   ]
  },
  {
   "cell_type": "code",
   "execution_count": 4,
   "metadata": {},
   "outputs": [
    {
     "data": {
      "text/plain": [
       "(array([23., 16., 21., 15., 13., 12., 20., 13., 14., 12., 10.,  7., 14.,\n",
       "         9., 12.,  7.,  9.,  6.,  4.,  6.,  5.,  4.,  1.,  3.,  1.,  3.,\n",
       "         2.,  3.,  1.,  2.,  2.,  0.,  2.,  1.,  1.,  1.,  1.,  3.,  0.,\n",
       "         0.,  0.,  0.,  1.,  0.,  1.,  0.,  0.,  3.,  0.,  0.,  0.,  0.,\n",
       "         0.,  0.,  0.,  1.,  1.,  0.,  0.,  1.,  0.,  0.,  0.,  0.,  0.,\n",
       "         0.,  0.,  0.,  0.,  0.,  0.,  0.,  0.,  0.,  0.,  0.,  0.,  0.,\n",
       "         0.,  0.,  0.,  0.,  0.,  0.,  0.,  0.,  0.,  0.,  0.,  0.,  0.,\n",
       "         0.,  0.,  0.,  0.,  0.,  0.,  0.,  0.,  1.]),\n",
       " array([1.01  , 1.0495, 1.089 , 1.1285, 1.168 , 1.2075, 1.247 , 1.2865,\n",
       "        1.326 , 1.3655, 1.405 , 1.4445, 1.484 , 1.5235, 1.563 , 1.6025,\n",
       "        1.642 , 1.6815, 1.721 , 1.7605, 1.8   , 1.8395, 1.879 , 1.9185,\n",
       "        1.958 , 1.9975, 2.037 , 2.0765, 2.116 , 2.1555, 2.195 , 2.2345,\n",
       "        2.274 , 2.3135, 2.353 , 2.3925, 2.432 , 2.4715, 2.511 , 2.5505,\n",
       "        2.59  , 2.6295, 2.669 , 2.7085, 2.748 , 2.7875, 2.827 , 2.8665,\n",
       "        2.906 , 2.9455, 2.985 , 3.0245, 3.064 , 3.1035, 3.143 , 3.1825,\n",
       "        3.222 , 3.2615, 3.301 , 3.3405, 3.38  , 3.4195, 3.459 , 3.4985,\n",
       "        3.538 , 3.5775, 3.617 , 3.6565, 3.696 , 3.7355, 3.775 , 3.8145,\n",
       "        3.854 , 3.8935, 3.933 , 3.9725, 4.012 , 4.0515, 4.091 , 4.1305,\n",
       "        4.17  , 4.2095, 4.249 , 4.2885, 4.328 , 4.3675, 4.407 , 4.4465,\n",
       "        4.486 , 4.5255, 4.565 , 4.6045, 4.644 , 4.6835, 4.723 , 4.7625,\n",
       "        4.802 , 4.8415, 4.881 , 4.9205, 4.96  ]),\n",
       " <BarContainer object of 100 artists>)"
      ]
     },
     "execution_count": 4,
     "metadata": {},
     "output_type": "execute_result"
    },
    {
     "data": {
      "image/png": "[encoded data removed]",
      "text/plain": [
       "<Figure size 432x288 with 1 Axes>"
      ]
     },
     "metadata": {
      "needs_background": "light"
     },
     "output_type": "display_data"
    }
   ],
   "source": [
    "plt.hist(beta['Beta'],100)"
   ]
  },
  {
   "cell_type": "markdown",
   "metadata": {},
   "source": [
    "    I would assume that is not the best to go with the most violatile stocks as they are more prone to instant change rather than gradual increase or decrease. I think a good starting place will be somewhere around the mean or median of the betas."
   ]
  },
  {
   "cell_type": "code",
   "execution_count": 5,
   "metadata": {},
   "outputs": [
    {
     "name": "stdout",
     "output_type": "stream",
     "text": [
      "Mean : 1.4780208333333327\n",
      "Median : 1.36\n"
     ]
    }
   ],
   "source": [
    "betaArray = beta['Beta']\n",
    "\n",
    "total = 0;\n",
    "count = betaArray.count()\n",
    "for betas in betaArray:\n",
    "    total = total + betas\n",
    "mean = total / count\n",
    "median = betaArray.median()\n",
    "print(\"Mean : \" + str(mean))\n",
    "print(\"Median : \" +str(median))"
   ]
  },
  {
   "cell_type": "markdown",
   "metadata": {},
   "source": [
    "     I am going to pick stocks that follow this mean beta to start doing in depth analysis on. These will be the stocks that I will begin trading."
   ]
  },
  {
   "cell_type": "code",
   "execution_count": 6,
   "metadata": {},
   "outputs": [
    {
     "name": "stdout",
     "output_type": "stream",
     "text": [
      "[1.52, 1.5, 1.57, 1.56, 1.5, 1.52, 1.44, 1.5, 1.56, 1.44, 1.49, 1.56, 1.51, 1.57, 1.57, 1.44, 1.5, 1.38, 1.52, 1.4, 1.4, 1.4, 1.55, 1.56, 1.51, 1.48, 1.51, 1.47, 1.43, 1.57, 1.57, 1.48, 1.41, 1.38, 1.47, 1.41, 1.43, 1.4, 1.42, 1.54, 1.51, 1.38, 1.45, 1.53, 1.46, 1.44, 1.49, 1.54, 1.4, 1.45, 1.55, 1.5, 1.44]\n",
      "Total number of stocks to choose from : 53\n"
     ]
    }
   ],
   "source": [
    "tradable = []\n",
    "variance = 0.1\n",
    "\n",
    "for betas in betaArray:\n",
    "    if(betas < (mean+variance) and betas > (mean-variance)):\n",
    "        tradable.append(betas)\n",
    "print(tradable)  \n",
    "print(\"Total number of stocks to choose from : \" + str(len(tradable)))"
   ]
  },
  {
   "cell_type": "markdown",
   "metadata": {},
   "source": [
    "    There is a lot of repeats in the data that would make it hard to get the stocks because there would be repeated data. I will condense the data in the array so that we only check each value once."
   ]
  },
  {
   "cell_type": "code",
   "execution_count": 7,
   "metadata": {},
   "outputs": [
    {
     "name": "stdout",
     "output_type": "stream",
     "text": [
      "[1.52 1.5  1.57 1.56 1.44 1.49 1.51 1.38 1.4  1.55 1.48 1.47 1.43 1.41\n",
      " 1.42 1.54 1.45 1.53 1.46]\n"
     ]
    }
   ],
   "source": [
    "tradableCondensed = pd.unique(tradable)\n",
    "print(tradableCondensed)"
   ]
  },
  {
   "cell_type": "code",
   "execution_count": 8,
   "metadata": {},
   "outputs": [
    {
     "data": {
      "text/html": [
       "<div>\n",
       "<style scoped>\n",
       "    .dataframe tbody tr th:only-of-type {\n",
       "        vertical-align: middle;\n",
       "    }\n",
       "\n",
       "    .dataframe tbody tr th {\n",
       "        vertical-align: top;\n",
       "    }\n",
       "\n",
       "    .dataframe thead th {\n",
       "        text-align: right;\n",
       "    }\n",
       "</style>\n",
       "<table border=\"1\" class=\"dataframe\">\n",
       "  <thead>\n",
       "    <tr style=\"text-align: right;\">\n",
       "      <th></th>\n",
       "      <th>Symbol</th>\n",
       "      <th>Name</th>\n",
       "      <th>Beta</th>\n",
       "    </tr>\n",
       "  </thead>\n",
       "  <tbody>\n",
       "    <tr>\n",
       "      <th>22</th>\n",
       "      <td>ALB</td>\n",
       "      <td>Albemarle Corp</td>\n",
       "      <td>1.52</td>\n",
       "    </tr>\n",
       "    <tr>\n",
       "      <th>115</th>\n",
       "      <td>CTAS</td>\n",
       "      <td>Cintas Corp</td>\n",
       "      <td>1.52</td>\n",
       "    </tr>\n",
       "    <tr>\n",
       "      <th>213</th>\n",
       "      <td>HBI</td>\n",
       "      <td>Hanesbrands Inc</td>\n",
       "      <td>1.52</td>\n",
       "    </tr>\n",
       "    <tr>\n",
       "      <th>28</th>\n",
       "      <td>AMAT</td>\n",
       "      <td>Applied Materials</td>\n",
       "      <td>1.50</td>\n",
       "    </tr>\n",
       "    <tr>\n",
       "      <th>81</th>\n",
       "      <td>CBRE</td>\n",
       "      <td>CBRE Group Inc</td>\n",
       "      <td>1.50</td>\n",
       "    </tr>\n",
       "    <tr>\n",
       "      <th>124</th>\n",
       "      <td>DAL</td>\n",
       "      <td>Delta Air Lines Inc</td>\n",
       "      <td>1.50</td>\n",
       "    </tr>\n",
       "    <tr>\n",
       "      <th>208</th>\n",
       "      <td>GS</td>\n",
       "      <td>Goldman Sachs Group</td>\n",
       "      <td>1.50</td>\n",
       "    </tr>\n",
       "    <tr>\n",
       "      <th>487</th>\n",
       "      <td>WMB</td>\n",
       "      <td>Williams Companies</td>\n",
       "      <td>1.50</td>\n",
       "    </tr>\n",
       "    <tr>\n",
       "      <th>55</th>\n",
       "      <td>BAC</td>\n",
       "      <td>Bank of America Corp</td>\n",
       "      <td>1.57</td>\n",
       "    </tr>\n",
       "    <tr>\n",
       "      <th>184</th>\n",
       "      <td>FITB</td>\n",
       "      <td>Fifth Third Bncp</td>\n",
       "      <td>1.57</td>\n",
       "    </tr>\n",
       "    <tr>\n",
       "      <th>185</th>\n",
       "      <td>FLIR</td>\n",
       "      <td>Flir Systems Inc</td>\n",
       "      <td>1.57</td>\n",
       "    </tr>\n",
       "    <tr>\n",
       "      <th>303</th>\n",
       "      <td>MHK</td>\n",
       "      <td>Mohawk Industries</td>\n",
       "      <td>1.57</td>\n",
       "    </tr>\n",
       "    <tr>\n",
       "      <th>316</th>\n",
       "      <td>MS</td>\n",
       "      <td>Morgan Stanley</td>\n",
       "      <td>1.57</td>\n",
       "    </tr>\n",
       "    <tr>\n",
       "      <th>57</th>\n",
       "      <td>BBY</td>\n",
       "      <td>Best Buy Company</td>\n",
       "      <td>1.56</td>\n",
       "    </tr>\n",
       "    <tr>\n",
       "      <th>125</th>\n",
       "      <td>DD</td>\n",
       "      <td>Du Pont De.Nemours Inc</td>\n",
       "      <td>1.56</td>\n",
       "    </tr>\n",
       "    <tr>\n",
       "      <th>142</th>\n",
       "      <td>DRI</td>\n",
       "      <td>Darden Restaurants</td>\n",
       "      <td>1.56</td>\n",
       "    </tr>\n",
       "    <tr>\n",
       "      <th>259</th>\n",
       "      <td>KEY</td>\n",
       "      <td>Keycorp</td>\n",
       "      <td>1.56</td>\n",
       "    </tr>\n",
       "    <tr>\n",
       "      <th>116</th>\n",
       "      <td>CTLT</td>\n",
       "      <td>Catalent Inc</td>\n",
       "      <td>1.44</td>\n",
       "    </tr>\n",
       "    <tr>\n",
       "      <th>133</th>\n",
       "      <td>DISCA</td>\n",
       "      <td>Discovery Comm A</td>\n",
       "      <td>1.44</td>\n",
       "    </tr>\n",
       "    <tr>\n",
       "      <th>186</th>\n",
       "      <td>FLT</td>\n",
       "      <td>Fleetcor Technologies</td>\n",
       "      <td>1.44</td>\n",
       "    </tr>\n",
       "    <tr>\n",
       "      <th>427</th>\n",
       "      <td>SYY</td>\n",
       "      <td>Sysco Corp</td>\n",
       "      <td>1.44</td>\n",
       "    </tr>\n",
       "    <tr>\n",
       "      <th>497</th>\n",
       "      <td>XOM</td>\n",
       "      <td>Exxon Mobil Corp</td>\n",
       "      <td>1.44</td>\n",
       "    </tr>\n",
       "    <tr>\n",
       "      <th>134</th>\n",
       "      <td>DISCK</td>\n",
       "      <td>Discovery Comm Inc</td>\n",
       "      <td>1.49</td>\n",
       "    </tr>\n",
       "    <tr>\n",
       "      <th>440</th>\n",
       "      <td>TPR</td>\n",
       "      <td>Tapestry Inc</td>\n",
       "      <td>1.49</td>\n",
       "    </tr>\n",
       "    <tr>\n",
       "      <th>156</th>\n",
       "      <td>EMN</td>\n",
       "      <td>Eastman Chemical Company</td>\n",
       "      <td>1.51</td>\n",
       "    </tr>\n",
       "    <tr>\n",
       "      <th>262</th>\n",
       "      <td>KIM</td>\n",
       "      <td>Kimco Realty Corp</td>\n",
       "      <td>1.51</td>\n",
       "    </tr>\n",
       "    <tr>\n",
       "      <th>274</th>\n",
       "      <td>LEN</td>\n",
       "      <td>Lennar Corp</td>\n",
       "      <td>1.51</td>\n",
       "    </tr>\n",
       "    <tr>\n",
       "      <th>397</th>\n",
       "      <td>RL</td>\n",
       "      <td>Ralph Lauren Corp</td>\n",
       "      <td>1.51</td>\n",
       "    </tr>\n",
       "    <tr>\n",
       "      <th>212</th>\n",
       "      <td>HBAN</td>\n",
       "      <td>Huntington Bcshs</td>\n",
       "      <td>1.38</td>\n",
       "    </tr>\n",
       "    <tr>\n",
       "      <th>341</th>\n",
       "      <td>NVDA</td>\n",
       "      <td>Nvidia Corp</td>\n",
       "      <td>1.38</td>\n",
       "    </tr>\n",
       "    <tr>\n",
       "      <th>399</th>\n",
       "      <td>ROK</td>\n",
       "      <td>Rockwell Automation Inc</td>\n",
       "      <td>1.38</td>\n",
       "    </tr>\n",
       "    <tr>\n",
       "      <th>227</th>\n",
       "      <td>HST</td>\n",
       "      <td>Host Marriott Financial Trust</td>\n",
       "      <td>1.40</td>\n",
       "    </tr>\n",
       "    <tr>\n",
       "      <th>243</th>\n",
       "      <td>IPGP</td>\n",
       "      <td>Ipg Photonics Corp</td>\n",
       "      <td>1.40</td>\n",
       "    </tr>\n",
       "    <tr>\n",
       "      <th>244</th>\n",
       "      <td>IQV</td>\n",
       "      <td>Iqvia Holdings Inc</td>\n",
       "      <td>1.40</td>\n",
       "    </tr>\n",
       "    <tr>\n",
       "      <th>373</th>\n",
       "      <td>PNC</td>\n",
       "      <td>PNC Bank</td>\n",
       "      <td>1.40</td>\n",
       "    </tr>\n",
       "    <tr>\n",
       "      <th>466</th>\n",
       "      <td>VFC</td>\n",
       "      <td>V.F. Corp</td>\n",
       "      <td>1.40</td>\n",
       "    </tr>\n",
       "    <tr>\n",
       "      <th>245</th>\n",
       "      <td>IR</td>\n",
       "      <td>Ingersoll Rand Inc</td>\n",
       "      <td>1.55</td>\n",
       "    </tr>\n",
       "    <tr>\n",
       "      <th>475</th>\n",
       "      <td>VTRS</td>\n",
       "      <td>Viatris Inc</td>\n",
       "      <td>1.55</td>\n",
       "    </tr>\n",
       "    <tr>\n",
       "      <th>273</th>\n",
       "      <td>LEG</td>\n",
       "      <td>Leggett &amp; Platt Inc</td>\n",
       "      <td>1.48</td>\n",
       "    </tr>\n",
       "    <tr>\n",
       "      <th>332</th>\n",
       "      <td>NLSN</td>\n",
       "      <td>Nielsen Holdings Plc</td>\n",
       "      <td>1.48</td>\n",
       "    </tr>\n",
       "    <tr>\n",
       "      <th>287</th>\n",
       "      <td>LVS</td>\n",
       "      <td>Las Vegas Sands</td>\n",
       "      <td>1.47</td>\n",
       "    </tr>\n",
       "    <tr>\n",
       "      <th>346</th>\n",
       "      <td>NXPI</td>\n",
       "      <td>Nxp Semiconductors</td>\n",
       "      <td>1.47</td>\n",
       "    </tr>\n",
       "    <tr>\n",
       "      <th>290</th>\n",
       "      <td>LYV</td>\n",
       "      <td>Live Nation Entertainment</td>\n",
       "      <td>1.43</td>\n",
       "    </tr>\n",
       "    <tr>\n",
       "      <th>368</th>\n",
       "      <td>PHM</td>\n",
       "      <td>Pultegroup</td>\n",
       "      <td>1.43</td>\n",
       "    </tr>\n",
       "    <tr>\n",
       "      <th>340</th>\n",
       "      <td>NUE</td>\n",
       "      <td>Nucor Corp</td>\n",
       "      <td>1.41</td>\n",
       "    </tr>\n",
       "    <tr>\n",
       "      <th>355</th>\n",
       "      <td>PAYC</td>\n",
       "      <td>Paycom Software Inc</td>\n",
       "      <td>1.41</td>\n",
       "    </tr>\n",
       "    <tr>\n",
       "      <th>389</th>\n",
       "      <td>QRVO</td>\n",
       "      <td>Qorvo Inc</td>\n",
       "      <td>1.42</td>\n",
       "    </tr>\n",
       "    <tr>\n",
       "      <th>394</th>\n",
       "      <td>RF</td>\n",
       "      <td>Regions Financial Corp</td>\n",
       "      <td>1.54</td>\n",
       "    </tr>\n",
       "    <tr>\n",
       "      <th>441</th>\n",
       "      <td>TRMB</td>\n",
       "      <td>Trimble Navigation</td>\n",
       "      <td>1.54</td>\n",
       "    </tr>\n",
       "    <tr>\n",
       "      <th>404</th>\n",
       "      <td>RTX</td>\n",
       "      <td>Raytheon Technologies Corp</td>\n",
       "      <td>1.45</td>\n",
       "    </tr>\n",
       "    <tr>\n",
       "      <th>470</th>\n",
       "      <td>VNO</td>\n",
       "      <td>Vornado Realty Trust</td>\n",
       "      <td>1.45</td>\n",
       "    </tr>\n",
       "    <tr>\n",
       "      <th>416</th>\n",
       "      <td>SPG</td>\n",
       "      <td>Simon Property Group</td>\n",
       "      <td>1.53</td>\n",
       "    </tr>\n",
       "    <tr>\n",
       "      <th>423</th>\n",
       "      <td>SWK</td>\n",
       "      <td>Stanley Black &amp; Decker Inc</td>\n",
       "      <td>1.46</td>\n",
       "    </tr>\n",
       "  </tbody>\n",
       "</table>\n",
       "</div>"
      ],
      "text/plain": [
       "    Symbol                           Name  Beta\n",
       "22     ALB                 Albemarle Corp  1.52\n",
       "115   CTAS                    Cintas Corp  1.52\n",
       "213    HBI                Hanesbrands Inc  1.52\n",
       "28    AMAT              Applied Materials  1.50\n",
       "81    CBRE                 CBRE Group Inc  1.50\n",
       "124    DAL            Delta Air Lines Inc  1.50\n",
       "208     GS            Goldman Sachs Group  1.50\n",
       "487    WMB             Williams Companies  1.50\n",
       "55     BAC           Bank of America Corp  1.57\n",
       "184   FITB               Fifth Third Bncp  1.57\n",
       "185   FLIR               Flir Systems Inc  1.57\n",
       "303    MHK              Mohawk Industries  1.57\n",
       "316     MS                 Morgan Stanley  1.57\n",
       "57     BBY               Best Buy Company  1.56\n",
       "125     DD         Du Pont De.Nemours Inc  1.56\n",
       "142    DRI             Darden Restaurants  1.56\n",
       "259    KEY                        Keycorp  1.56\n",
       "116   CTLT                   Catalent Inc  1.44\n",
       "133  DISCA               Discovery Comm A  1.44\n",
       "186    FLT          Fleetcor Technologies  1.44\n",
       "427    SYY                     Sysco Corp  1.44\n",
       "497    XOM               Exxon Mobil Corp  1.44\n",
       "134  DISCK             Discovery Comm Inc  1.49\n",
       "440    TPR                   Tapestry Inc  1.49\n",
       "156    EMN       Eastman Chemical Company  1.51\n",
       "262    KIM              Kimco Realty Corp  1.51\n",
       "274    LEN                    Lennar Corp  1.51\n",
       "397     RL              Ralph Lauren Corp  1.51\n",
       "212   HBAN               Huntington Bcshs  1.38\n",
       "341   NVDA                    Nvidia Corp  1.38\n",
       "399    ROK        Rockwell Automation Inc  1.38\n",
       "227    HST  Host Marriott Financial Trust  1.40\n",
       "243   IPGP             Ipg Photonics Corp  1.40\n",
       "244    IQV             Iqvia Holdings Inc  1.40\n",
       "373    PNC                       PNC Bank  1.40\n",
       "466    VFC                      V.F. Corp  1.40\n",
       "245     IR             Ingersoll Rand Inc  1.55\n",
       "475   VTRS                    Viatris Inc  1.55\n",
       "273    LEG            Leggett & Platt Inc  1.48\n",
       "332   NLSN           Nielsen Holdings Plc  1.48\n",
       "287    LVS                Las Vegas Sands  1.47\n",
       "346   NXPI             Nxp Semiconductors  1.47\n",
       "290    LYV      Live Nation Entertainment  1.43\n",
       "368    PHM                     Pultegroup  1.43\n",
       "340    NUE                     Nucor Corp  1.41\n",
       "355   PAYC            Paycom Software Inc  1.41\n",
       "389   QRVO                      Qorvo Inc  1.42\n",
       "394     RF         Regions Financial Corp  1.54\n",
       "441   TRMB             Trimble Navigation  1.54\n",
       "404    RTX     Raytheon Technologies Corp  1.45\n",
       "470    VNO           Vornado Realty Trust  1.45\n",
       "416    SPG           Simon Property Group  1.53\n",
       "423    SWK     Stanley Black & Decker Inc  1.46"
      ]
     },
     "execution_count": 8,
     "metadata": {},
     "output_type": "execute_result"
    }
   ],
   "source": [
    "stocks = pd.DataFrame(columns = beta.columns)\n",
    "for b in tradableCondensed:\n",
    "    temp = beta.loc[beta['Beta'] == b]\n",
    "    stocks = stocks.append(temp)\n",
    "\n",
    "pd.set_option('display.max_rows', None)\n",
    "stocks.head(100)  "
   ]
  },
  {
   "cell_type": "markdown",
   "metadata": {},
   "source": [
    "    These are the the tickers that I will choose to base my future trades on. I will pick a handful of them to intialily invest in and do more analysis as time goes by.\n",
    "    "
   ]
  },
  {
   "cell_type": "code",
   "execution_count": 9,
   "metadata": {},
   "outputs": [
    {
     "name": "stdout",
     "output_type": "stream",
     "text": [
      "['ALB', 'CTAS', 'HBI', 'AMAT', 'CBRE', 'DAL', 'GS', 'WMB', 'BAC', 'FITB', 'FLIR', 'MHK', 'MS', 'BBY', 'DD', 'DRI', 'KEY', 'CTLT', 'DISCA', 'FLT', 'SYY', 'XOM', 'DISCK', 'TPR', 'EMN', 'KIM', 'LEN', 'RL', 'HBAN', 'NVDA', 'ROK', 'HST', 'IPGP', 'IQV', 'PNC', 'VFC', 'IR', 'VTRS', 'LEG', 'NLSN', 'LVS', 'NXPI', 'LYV', 'PHM', 'NUE', 'PAYC', 'QRVO', 'RF', 'TRMB', 'RTX', 'VNO', 'SPG', 'SWK']\n"
     ]
    }
   ],
   "source": [
    "tickerArray = []\n",
    "for s in stocks[\"Symbol\"]:\n",
    "    tickerArray.append(s)\n",
    "print(tickerArray)"
   ]
  },
  {
   "cell_type": "markdown",
   "metadata": {},
   "source": [
    "### Tickers Im going to Follow:"
   ]
  },
  {
   "cell_type": "code",
   "execution_count": 10,
   "metadata": {},
   "outputs": [
    {
     "data": {
      "text/html": [
       "<div>\n",
       "<style scoped>\n",
       "    .dataframe tbody tr th:only-of-type {\n",
       "        vertical-align: middle;\n",
       "    }\n",
       "\n",
       "    .dataframe tbody tr th {\n",
       "        vertical-align: top;\n",
       "    }\n",
       "\n",
       "    .dataframe thead th {\n",
       "        text-align: right;\n",
       "    }\n",
       "</style>\n",
       "<table border=\"1\" class=\"dataframe\">\n",
       "  <thead>\n",
       "    <tr style=\"text-align: right;\">\n",
       "      <th></th>\n",
       "      <th>Symbol</th>\n",
       "      <th>Name</th>\n",
       "      <th>Beta</th>\n",
       "    </tr>\n",
       "  </thead>\n",
       "  <tbody>\n",
       "    <tr>\n",
       "      <th>124</th>\n",
       "      <td>DAL</td>\n",
       "      <td>Delta Air Lines Inc</td>\n",
       "      <td>1.50</td>\n",
       "    </tr>\n",
       "    <tr>\n",
       "      <th>55</th>\n",
       "      <td>BAC</td>\n",
       "      <td>Bank of America Corp</td>\n",
       "      <td>1.57</td>\n",
       "    </tr>\n",
       "    <tr>\n",
       "      <th>316</th>\n",
       "      <td>MS</td>\n",
       "      <td>Morgan Stanley</td>\n",
       "      <td>1.57</td>\n",
       "    </tr>\n",
       "    <tr>\n",
       "      <th>427</th>\n",
       "      <td>SYY</td>\n",
       "      <td>Sysco Corp</td>\n",
       "      <td>1.44</td>\n",
       "    </tr>\n",
       "    <tr>\n",
       "      <th>497</th>\n",
       "      <td>XOM</td>\n",
       "      <td>Exxon Mobil Corp</td>\n",
       "      <td>1.44</td>\n",
       "    </tr>\n",
       "    <tr>\n",
       "      <th>341</th>\n",
       "      <td>NVDA</td>\n",
       "      <td>Nvidia Corp</td>\n",
       "      <td>1.38</td>\n",
       "    </tr>\n",
       "    <tr>\n",
       "      <th>399</th>\n",
       "      <td>ROK</td>\n",
       "      <td>Rockwell Automation Inc</td>\n",
       "      <td>1.38</td>\n",
       "    </tr>\n",
       "    <tr>\n",
       "      <th>346</th>\n",
       "      <td>NXPI</td>\n",
       "      <td>Nxp Semiconductors</td>\n",
       "      <td>1.47</td>\n",
       "    </tr>\n",
       "    <tr>\n",
       "      <th>355</th>\n",
       "      <td>PAYC</td>\n",
       "      <td>Paycom Software Inc</td>\n",
       "      <td>1.41</td>\n",
       "    </tr>\n",
       "    <tr>\n",
       "      <th>404</th>\n",
       "      <td>RTX</td>\n",
       "      <td>Raytheon Technologies Corp</td>\n",
       "      <td>1.45</td>\n",
       "    </tr>\n",
       "    <tr>\n",
       "      <th>416</th>\n",
       "      <td>SPG</td>\n",
       "      <td>Simon Property Group</td>\n",
       "      <td>1.53</td>\n",
       "    </tr>\n",
       "  </tbody>\n",
       "</table>\n",
       "</div>"
      ],
      "text/plain": [
       "    Symbol                        Name  Beta\n",
       "124    DAL         Delta Air Lines Inc  1.50\n",
       "55     BAC        Bank of America Corp  1.57\n",
       "316     MS              Morgan Stanley  1.57\n",
       "427    SYY                  Sysco Corp  1.44\n",
       "497    XOM            Exxon Mobil Corp  1.44\n",
       "341   NVDA                 Nvidia Corp  1.38\n",
       "399    ROK     Rockwell Automation Inc  1.38\n",
       "346   NXPI          Nxp Semiconductors  1.47\n",
       "355   PAYC         Paycom Software Inc  1.41\n",
       "404    RTX  Raytheon Technologies Corp  1.45\n",
       "416    SPG        Simon Property Group  1.53"
      ]
     },
     "execution_count": 10,
     "metadata": {},
     "output_type": "execute_result"
    }
   ],
   "source": [
    "tickersFollow = [124,55,316,427,497,341,399,346,355,404,416]\n",
    "follow = pd.DataFrame(columns = beta.columns)\n",
    "for i in range(len(stocks)):\n",
    "    if stocks.index[i] in tickersFollow:\n",
    "        follow = follow.append(stocks.iloc[i])\n",
    "follow"
   ]
  },
  {
   "cell_type": "markdown",
   "metadata": {},
   "source": [
    "    Because I am making my first trades based off how violtile the stocks are, It is good to have diversity in your portfilo because violtility can be in the upward or downward direction. Having more stocks in the beginning allows for safer start. \n",
    "    \n",
    "  "
   ]
  },
  {
   "cell_type": "markdown",
   "metadata": {},
   "source": [
    "### Week 2 \n",
    "##### This week we can start diving into some details about specitic stocks so we can have more info to use to trade that stock with.\n",
    "##### I am going to focus on looking into Bank of America (BAC) as my first stock to do some deeper data analysis."
   ]
  },
  {
   "cell_type": "code",
   "execution_count": 11,
   "metadata": {},
   "outputs": [
    {
     "name": "stdout",
     "output_type": "stream",
     "text": [
      "                 High        Low       Open      Close      Volume  Adj Close\n",
      "Date                                                                         \n",
      "2020-01-02  35.660000  35.290001  35.349998  35.639999  37614200.0  34.537598\n",
      "2020-01-03  35.150002  34.759998  34.980000  34.900002  50357900.0  33.820488\n",
      "2020-01-06  34.900002  34.369999  34.410000  34.849998  42185000.0  33.772030\n",
      "2020-01-07  34.919998  34.529999  34.700001  34.619999  34149000.0  33.549149\n",
      "2020-01-08  35.189999  34.549999  34.570000  34.970001  45311600.0  33.888321\n"
     ]
    }
   ],
   "source": [
    "style.use('ggplot')\n",
    "\n",
    "startDate = dt.datetime(2020, 1,1)\n",
    "endDate = dt.datetime(2021,5,5)\n",
    "\n",
    "df = web.DataReader('BAC', 'yahoo', startDate, endDate)\n",
    "print(df.head())"
   ]
  },
  {
   "cell_type": "code",
   "execution_count": 12,
   "metadata": {},
   "outputs": [
    {
     "name": "stdout",
     "output_type": "stream",
     "text": [
      "                Close  Daily % Change   Swing %      Volume\n",
      "Date                                                       \n",
      "2020-01-02  35.639999        0.820370  1.048453  37614200.0\n",
      "2020-01-03  34.900002       -0.228696  1.121989  50357900.0\n",
      "2020-01-06  34.849998        1.278694  1.542050  42185000.0\n",
      "2020-01-07  34.619999       -0.230553  1.129451  34149000.0\n",
      "2020-01-08  34.970001        1.157077  1.852386  45311600.0\n"
     ]
    }
   ],
   "source": [
    "df['Swing %'] = (df['High']-df['Low']) / df['Low'] * 100\n",
    "df['Daily % Change'] = (df['Close']-df['Open']) / df['Open'] * 100\n",
    "df = df[['Close','Daily % Change','Swing %','Volume']]\n",
    "print(df.head())"
   ]
  },
  {
   "cell_type": "code",
   "execution_count": 13,
   "metadata": {},
   "outputs": [
    {
     "data": {
      "text/plain": [
       "Close                  28.74\n",
       "Daily % Change          0.04\n",
       "Swing %                 3.07\n",
       "Volume           64436479.59\n",
       "dtype: float64"
      ]
     },
     "execution_count": 13,
     "metadata": {},
     "output_type": "execute_result"
    }
   ],
   "source": [
    "pd.set_option('display.float_format', lambda x: '%.2f' % x)\n",
    "df.mean()"
   ]
  },
  {
   "cell_type": "code",
   "execution_count": 14,
   "metadata": {},
   "outputs": [
    {
     "data": {
      "text/plain": [
       "(array([ 1.,  0.,  0.,  0.,  0.,  0.,  0.,  0.,  0.,  0.,  0.,  0.,  0.,\n",
       "         0.,  0.,  0.,  0.,  0.,  1.,  0.,  0.,  0.,  1.,  0.,  0.,  2.,\n",
       "         1.,  0.,  0.,  1.,  1.,  1.,  1.,  4.,  3.,  2.,  6.,  4.,  6.,\n",
       "         6.,  3.,  4.,  5.,  7., 14.,  9.,  6., 18., 12., 18., 17., 15.,\n",
       "        16., 17., 14., 11., 17., 19.,  9.,  5.,  4.,  9.,  6.,  5.,  9.,\n",
       "         3.,  0.,  0.,  5.,  1.,  1.,  1.,  2.,  0.,  3.,  3.,  0.,  3.,\n",
       "         0.,  0.,  0.,  0.,  0.,  2.,  0.,  0.,  0.,  1.,  0.,  1.,  0.,\n",
       "         0.,  0.,  0.,  0.,  0.,  1.,  0.,  0.,  1.]),\n",
       " array([-9.60478001e+00, -9.41995352e+00, -9.23512702e+00, -9.05030052e+00,\n",
       "        -8.86547403e+00, -8.68064753e+00, -8.49582103e+00, -8.31099454e+00,\n",
       "        -8.12616804e+00, -7.94134155e+00, -7.75651505e+00, -7.57168855e+00,\n",
       "        -7.38686206e+00, -7.20203556e+00, -7.01720907e+00, -6.83238257e+00,\n",
       "        -6.64755607e+00, -6.46272958e+00, -6.27790308e+00, -6.09307658e+00,\n",
       "        -5.90825009e+00, -5.72342359e+00, -5.53859710e+00, -5.35377060e+00,\n",
       "        -5.16894410e+00, -4.98411761e+00, -4.79929111e+00, -4.61446461e+00,\n",
       "        -4.42963812e+00, -4.24481162e+00, -4.05998513e+00, -3.87515863e+00,\n",
       "        -3.69033213e+00, -3.50550564e+00, -3.32067914e+00, -3.13585265e+00,\n",
       "        -2.95102615e+00, -2.76619965e+00, -2.58137316e+00, -2.39654666e+00,\n",
       "        -2.21172016e+00, -2.02689367e+00, -1.84206717e+00, -1.65724068e+00,\n",
       "        -1.47241418e+00, -1.28758768e+00, -1.10276119e+00, -9.17934691e-01,\n",
       "        -7.33108195e-01, -5.48281698e-01, -3.63455202e-01, -1.78628706e-01,\n",
       "         6.19779024e-03,  1.91024286e-01,  3.75850783e-01,  5.60677279e-01,\n",
       "         7.45503775e-01,  9.30330271e-01,  1.11515677e+00,  1.29998326e+00,\n",
       "         1.48480976e+00,  1.66963626e+00,  1.85446275e+00,  2.03928925e+00,\n",
       "         2.22411574e+00,  2.40894224e+00,  2.59376874e+00,  2.77859523e+00,\n",
       "         2.96342173e+00,  3.14824823e+00,  3.33307472e+00,  3.51790122e+00,\n",
       "         3.70272771e+00,  3.88755421e+00,  4.07238071e+00,  4.25720720e+00,\n",
       "         4.44203370e+00,  4.62686020e+00,  4.81168669e+00,  4.99651319e+00,\n",
       "         5.18133968e+00,  5.36616618e+00,  5.55099268e+00,  5.73581917e+00,\n",
       "         5.92064567e+00,  6.10547216e+00,  6.29029866e+00,  6.47512516e+00,\n",
       "         6.65995165e+00,  6.84477815e+00,  7.02960465e+00,  7.21443114e+00,\n",
       "         7.39925764e+00,  7.58408413e+00,  7.76891063e+00,  7.95373713e+00,\n",
       "         8.13856362e+00,  8.32339012e+00,  8.50821662e+00,  8.69304311e+00,\n",
       "         8.87786961e+00]),\n",
       " <BarContainer object of 100 artists>)"
      ]
     },
     "execution_count": 14,
     "metadata": {},
     "output_type": "execute_result"
    },
    {
     "data": {
      "image/png": "[encoded data removed]",
      "text/plain": [
       "<Figure size 432x288 with 1 Axes>"
      ]
     },
     "metadata": {},
     "output_type": "display_data"
    }
   ],
   "source": [
    "plt.hist(df['Daily % Change'],100)"
   ]
  },
  {
   "cell_type": "code",
   "execution_count": 15,
   "metadata": {},
   "outputs": [
    {
     "name": "stdout",
     "output_type": "stream",
     "text": [
      "[Close                  2280.96\n",
      "Daily % Change           52.50\n",
      "Swing %                  67.10\n",
      "Volume           2407308800.00\n",
      "Name: 2020-01-02 00:00:00, dtype: float64, Close                  2443.00\n",
      "Daily % Change          -16.01\n",
      "Swing %                  78.54\n",
      "Volume           3525053000.00\n",
      "Name: 2020-01-03 00:00:00, dtype: float64, Close                  2439.50\n",
      "Daily % Change           89.51\n",
      "Swing %                 107.94\n",
      "Volume           2952950000.00\n",
      "Name: 2020-01-06 00:00:00, dtype: float64, Close                  2388.78\n",
      "Daily % Change          -15.91\n",
      "Swing %                  77.93\n",
      "Volume           2356281000.00\n",
      "Name: 2020-01-07 00:00:00, dtype: float64, Close                  2273.05\n",
      "Daily % Change           75.21\n",
      "Swing %                 120.41\n",
      "Volume           2945254000.00\n",
      "Name: 2020-01-08 00:00:00, dtype: float64]\n",
      "[64, 70, 70, 69, 65]\n"
     ]
    }
   ],
   "source": [
    "weekDays = [0] * 5\n",
    "numDays = [0] * 5\n",
    "for i in range(len(df)):\n",
    "    dayindex = df.index[i].weekday()\n",
    "    \n",
    "    if dayindex == 0:\n",
    "        weekDays[0] = weekDays[0] + df.iloc[dayindex]\n",
    "        numDays[0] = numDays[0] + 1\n",
    "    elif dayindex == 1:\n",
    "        weekDays[1] = weekDays[1] + df.iloc[dayindex]\n",
    "        numDays[1] = numDays[1] + 1\n",
    "    elif dayindex == 2:\n",
    "        weekDays[2] = weekDays[2] + df.iloc[dayindex]\n",
    "        numDays[2] = numDays[2] + 1\n",
    "    elif dayindex == 3:\n",
    "        weekDays[3] = weekDays[3] + df.iloc[dayindex]\n",
    "        numDays[3] = numDays[3] + 1\n",
    "    elif dayindex == 4:\n",
    "        weekDays[4] = weekDays[4] + df.iloc[dayindex]\n",
    "        numDays[4] = numDays[4] + 1\n",
    "print(weekDays) \n",
    "print(numDays)"
   ]
  },
  {
   "cell_type": "code",
   "execution_count": 16,
   "metadata": {},
   "outputs": [
    {
     "name": "stdout",
     "output_type": "stream",
     "text": [
      "[0.8203703763654953, -0.22869644769671596, 1.2786940675969691, -0.2305528221778362, 1.1570770304021551]\n"
     ]
    }
   ],
   "source": [
    "avg = [0]*5\n",
    "for i in range(len(weekDays)):\n",
    "    avg[i] = weekDays[i]['Daily % Change'] / numDays[i]\n",
    "print(avg)"
   ]
  },
  {
   "cell_type": "code",
   "execution_count": 17,
   "metadata": {},
   "outputs": [
    {
     "data": {
      "image/png": "[encoded data removed]",
      "text/plain": [
       "<Figure size 360x216 with 1 Axes>"
      ]
     },
     "metadata": {},
     "output_type": "display_data"
    }
   ],
   "source": [
    "fig, ax = plt.subplots(figsize = (5,3))\n",
    "days = ['Monday','Tuesday','Wednesday','Thursday','Friday']\n",
    "ax.bar(days,avg)\n",
    "plt.show()"
   ]
  },
  {
   "cell_type": "markdown",
   "metadata": {},
   "source": [
    "    From this graph, we can conclude that the best days to sell BAC stock is on Mondays, Wednesdays, and Fridays. With Tuesday and Thursday being the best days on average to buy BAC. Because of this, I will buy some BAC on this Thurday and sell it out sometime next week on Wednesday if it is up on the day.\n",
    "#### Now I can repeat for some of the other stocks I am watching"
   ]
  },
  {
   "cell_type": "markdown",
   "metadata": {},
   "source": [
    "    We will take a look at NVDA\n",
    "    "
   ]
  },
  {
   "cell_type": "code",
   "execution_count": 18,
   "metadata": {},
   "outputs": [
    {
     "name": "stdout",
     "output_type": "stream",
     "text": [
      "             High    Low   Open  Close     Volume  Adj Close\n",
      "Date                                                        \n",
      "2020-01-02 239.91 236.72 238.75 239.91 5938400.00     239.43\n",
      "2020-01-03 237.83 234.10 235.10 236.07 5134600.00     235.60\n",
      "2020-01-06 237.27 231.27 232.32 237.06 6565900.00     236.59\n",
      "2020-01-07 241.77 236.39 238.20 239.93 7871400.00     239.45\n",
      "2020-01-08 242.04 238.15 239.76 240.38 6927700.00     239.90\n"
     ]
    }
   ],
   "source": [
    "style.use('ggplot')\n",
    "\n",
    "startDate = dt.datetime(2020, 1,1)\n",
    "endDate = dt.datetime(2021,5,5)\n",
    "\n",
    "df = web.DataReader('NVDA', 'yahoo', startDate, endDate)\n",
    "print(df.head())"
   ]
  },
  {
   "cell_type": "code",
   "execution_count": 19,
   "metadata": {},
   "outputs": [
    {
     "name": "stdout",
     "output_type": "stream",
     "text": [
      "            Close  Daily % Change  Swing %     Volume\n",
      "Date                                                 \n",
      "2020-01-02 239.91            0.49     1.35 5938400.00\n",
      "2020-01-03 236.07            0.41     1.59 5134600.00\n",
      "2020-01-06 237.06            2.04     2.59 6565900.00\n",
      "2020-01-07 239.93            0.73     2.28 7871400.00\n",
      "2020-01-08 240.38            0.26     1.63 6927700.00\n"
     ]
    }
   ],
   "source": [
    "df['Swing %'] = (df['High']-df['Low']) / df['Low'] * 100\n",
    "df['Daily % Change'] = (df['Close']-df['Open']) / df['Open'] * 100\n",
    "df = df[['Close','Daily % Change','Swing %','Volume']]\n",
    "print(df.head())"
   ]
  },
  {
   "cell_type": "code",
   "execution_count": 20,
   "metadata": {},
   "outputs": [
    {
     "data": {
      "text/plain": [
       "Close                 435.63\n",
       "Daily % Change          0.09\n",
       "Swing %                 3.89\n",
       "Volume           11076864.50\n",
       "dtype: float64"
      ]
     },
     "execution_count": 20,
     "metadata": {},
     "output_type": "execute_result"
    }
   ],
   "source": [
    "pd.set_option('display.float_format', lambda x: '%.2f' % x)\n",
    "df.mean()"
   ]
  },
  {
   "cell_type": "code",
   "execution_count": 21,
   "metadata": {},
   "outputs": [
    {
     "data": {
      "text/plain": [
       "(array([ 1.,  0.,  0.,  1.,  0.,  1.,  1.,  2.,  1.,  0.,  0.,  0.,  4.,\n",
       "         1.,  1.,  4.,  1.,  0.,  3.,  3.,  2.,  4.,  5.,  4.,  3.,  5.,\n",
       "         5.,  2.,  3.,  6.,  8.,  5.,  9., 13., 11., 12., 14.,  4., 19.,\n",
       "         8., 11., 11., 14.,  7.,  9.,  8.,  9., 11.,  7.,  8.,  9., 10.,\n",
       "         7.,  8.,  4.,  5.,  5.,  5.,  1.,  3.,  3.,  4.,  1.,  1.,  1.,\n",
       "         0.,  1.,  3.,  1.,  0.,  0.,  0.,  0.,  1.,  0.,  0.,  0.,  0.,\n",
       "         0.,  0.,  1.,  0.,  1.,  0.,  0.,  0.,  1.,  0.,  0.,  0.,  0.,\n",
       "         0.,  0.,  0.,  0.,  0.,  0.,  0.,  0.,  1.]),\n",
       " array([-7.53731439, -7.34806679, -7.15881919, -6.9695716 , -6.780324  ,\n",
       "        -6.5910764 , -6.40182881, -6.21258121, -6.02333361, -5.83408602,\n",
       "        -5.64483842, -5.45559082, -5.26634323, -5.07709563, -4.88784803,\n",
       "        -4.69860044, -4.50935284, -4.32010524, -4.13085765, -3.94161005,\n",
       "        -3.75236245, -3.56311486, -3.37386726, -3.18461966, -2.99537207,\n",
       "        -2.80612447, -2.61687687, -2.42762927, -2.23838168, -2.04913408,\n",
       "        -1.85988648, -1.67063889, -1.48139129, -1.29214369, -1.1028961 ,\n",
       "        -0.9136485 , -0.7244009 , -0.53515331, -0.34590571, -0.15665811,\n",
       "         0.03258948,  0.22183708,  0.41108468,  0.60033227,  0.78957987,\n",
       "         0.97882747,  1.16807506,  1.35732266,  1.54657026,  1.73581785,\n",
       "         1.92506545,  2.11431305,  2.30356064,  2.49280824,  2.68205584,\n",
       "         2.87130343,  3.06055103,  3.24979863,  3.43904622,  3.62829382,\n",
       "         3.81754142,  4.00678901,  4.19603661,  4.38528421,  4.57453181,\n",
       "         4.7637794 ,  4.953027  ,  5.1422746 ,  5.33152219,  5.52076979,\n",
       "         5.71001739,  5.89926498,  6.08851258,  6.27776018,  6.46700777,\n",
       "         6.65625537,  6.84550297,  7.03475056,  7.22399816,  7.41324576,\n",
       "         7.60249335,  7.79174095,  7.98098855,  8.17023614,  8.35948374,\n",
       "         8.54873134,  8.73797893,  8.92722653,  9.11647413,  9.30572172,\n",
       "         9.49496932,  9.68421692,  9.87346451, 10.06271211, 10.25195971,\n",
       "        10.4412073 , 10.6304549 , 10.8197025 , 11.00895009, 11.19819769,\n",
       "        11.38744529]),\n",
       " <BarContainer object of 100 artists>)"
      ]
     },
     "execution_count": 21,
     "metadata": {},
     "output_type": "execute_result"
    },
    {
     "data": {
      "image/png": "[encoded data removed]",
      "text/plain": [
       "<Figure size 432x288 with 1 Axes>"
      ]
     },
     "metadata": {},
     "output_type": "display_data"
    }
   ],
   "source": [
    "plt.hist(df['Daily % Change'],100)"
   ]
  },
  {
   "cell_type": "code",
   "execution_count": 22,
   "metadata": {},
   "outputs": [
    {
     "name": "stdout",
     "output_type": "stream",
     "text": [
      "[Close                15354.24\n",
      "Daily % Change          31.10\n",
      "Swing %                 86.25\n",
      "Volume           380057600.00\n",
      "Name: 2020-01-02 00:00:00, dtype: float64, Close                16524.90\n",
      "Daily % Change          28.88\n",
      "Swing %                111.53\n",
      "Volume           359422000.00\n",
      "Name: 2020-01-03 00:00:00, dtype: float64, Close                16594.20\n",
      "Daily % Change         142.82\n",
      "Swing %                181.61\n",
      "Volume           459613000.00\n",
      "Name: 2020-01-06 00:00:00, dtype: float64, Close                16555.17\n",
      "Daily % Change          50.11\n",
      "Swing %                157.04\n",
      "Volume           543126600.00\n",
      "Name: 2020-01-07 00:00:00, dtype: float64, Close                15624.70\n",
      "Daily % Change          16.81\n",
      "Swing %                106.17\n",
      "Volume           450300500.00\n",
      "Name: 2020-01-08 00:00:00, dtype: float64]\n",
      "[64, 70, 70, 69, 65]\n"
     ]
    }
   ],
   "source": [
    "weekDays = [0] * 5\n",
    "numDays = [0] * 5\n",
    "for i in range(len(df)):\n",
    "    dayindex = df.index[i].weekday()\n",
    "    \n",
    "    if dayindex == 0:\n",
    "        weekDays[0] = weekDays[0] + df.iloc[dayindex]\n",
    "        numDays[0] = numDays[0] + 1\n",
    "    elif dayindex == 1:\n",
    "        weekDays[1] = weekDays[1] + df.iloc[dayindex]\n",
    "        numDays[1] = numDays[1] + 1\n",
    "    elif dayindex == 2:\n",
    "        weekDays[2] = weekDays[2] + df.iloc[dayindex]\n",
    "        numDays[2] = numDays[2] + 1\n",
    "    elif dayindex == 3:\n",
    "        weekDays[3] = weekDays[3] + df.iloc[dayindex]\n",
    "        numDays[3] = numDays[3] + 1\n",
    "    elif dayindex == 4:\n",
    "        weekDays[4] = weekDays[4] + df.iloc[dayindex]\n",
    "        numDays[4] = numDays[4] + 1\n",
    "print(weekDays) \n",
    "print(numDays)"
   ]
  },
  {
   "cell_type": "code",
   "execution_count": 23,
   "metadata": {},
   "outputs": [
    {
     "name": "stdout",
     "output_type": "stream",
     "text": [
      "[0.48586540821335045, 0.41259089558510176, 2.0402849883522998, 0.7262786522683988, 0.2585962588345345]\n"
     ]
    }
   ],
   "source": [
    "avg = [0]*5\n",
    "for i in range(len(weekDays)):\n",
    "    avg[i] = weekDays[i]['Daily % Change'] / numDays[i]\n",
    "print(avg)"
   ]
  },
  {
   "cell_type": "code",
   "execution_count": 24,
   "metadata": {},
   "outputs": [
    {
     "data": {
      "image/png": "[encoded data removed]",
      "text/plain": [
       "<Figure size 360x216 with 1 Axes>"
      ]
     },
     "metadata": {},
     "output_type": "display_data"
    }
   ],
   "source": [
    "fig, ax = plt.subplots(figsize = (5,3))\n",
    "days = ['Monday','Tuesday','Wednesday','Thursday','Friday']\n",
    "ax.bar(days,avg)\n",
    "plt.title(follow.iloc[5]['Name'] + \" Percentage Change\")\n",
    "plt.show()"
   ]
  },
  {
   "cell_type": "markdown",
   "metadata": {},
   "source": [
    "    From this graph, we can see that all the days on average come out to be positive, with Friday being the lowest of all the days. Because of this, we will schedule a trade to buy NVDA on Friday of this week and see if we get any good return by wednesday of the next week, as it shows it is on average the has the most positive percentage change by the end of the day."
   ]
  },
  {
   "cell_type": "markdown",
   "metadata": {},
   "source": [
    "### Week 3 \n",
    "##### I want to look into all the other stocks that I have in my portflio and do the same analysis as last week to start. \n"
   ]
  },
  {
   "cell_type": "code",
   "execution_count": 25,
   "metadata": {},
   "outputs": [
    {
     "name": "stdout",
     "output_type": "stream",
     "text": [
      "            High   Low  Open  Close     Volume  Adj Close\n",
      "Date                                                     \n",
      "2020-01-02 59.39 58.45 58.93  59.04 4459200.00      58.63\n",
      "2020-01-03 58.12 56.91 57.50  58.06 9078100.00      57.66\n",
      "2020-01-06 57.76 56.66 56.99  57.66 5504300.00      57.26\n",
      "2020-01-07 58.07 57.47 57.91  57.61 5563000.00      57.21\n",
      "2020-01-08 59.40 57.73 57.75  58.85 8519000.00      58.45\n",
      "            Close  Daily % Change  Swing %     Volume\n",
      "Date                                                 \n",
      "2020-01-02  59.04            0.19     1.61 4459200.00\n",
      "2020-01-03  58.06            0.97     2.13 9078100.00\n",
      "2020-01-06  57.66            1.18     1.94 5504300.00\n",
      "2020-01-07  57.61           -0.52     1.04 5563000.00\n",
      "2020-01-08  58.85            1.90     2.89 8519000.00\n",
      "[Close                 3778.56\n",
      "Daily % Change          11.95\n",
      "Swing %                102.93\n",
      "Volume           285388800.00\n",
      "Name: 2020-01-02 00:00:00, dtype: float64, Close                 4064.20\n",
      "Daily % Change          68.17\n",
      "Swing %                148.83\n",
      "Volume           635467000.00\n",
      "Name: 2020-01-03 00:00:00, dtype: float64, Close                 4036.20\n",
      "Daily % Change          82.29\n",
      "Swing %                135.90\n",
      "Volume           385301000.00\n",
      "Name: 2020-01-06 00:00:00, dtype: float64, Close                 3975.09\n",
      "Daily % Change         -35.75\n",
      "Swing %                 72.04\n",
      "Volume           383847000.00\n",
      "Name: 2020-01-07 00:00:00, dtype: float64, Close                 3825.25\n",
      "Daily % Change         123.81\n",
      "Swing %                188.03\n",
      "Volume           553735000.00\n",
      "Name: 2020-01-08 00:00:00, dtype: float64]\n",
      "[64, 70, 70, 69, 65]\n",
      "[0.18666317628018272, 0.9739154318104616, 1.1756416024084193, -0.5180439265256772, 1.904759262547347]\n"
     ]
    },
    {
     "data": {
      "image/png": "[encoded data removed]",
      "text/plain": [
       "<Figure size 432x288 with 1 Axes>"
      ]
     },
     "metadata": {},
     "output_type": "display_data"
    },
    {
     "data": {
      "image/png": "[encoded data removed]",
      "text/plain": [
       "<Figure size 360x216 with 1 Axes>"
      ]
     },
     "metadata": {},
     "output_type": "display_data"
    }
   ],
   "source": [
    "style.use('ggplot')\n",
    "\n",
    "startDate = dt.datetime(2020, 1,1)\n",
    "endDate = dt.datetime(2021,5,5)\n",
    "\n",
    "df = web.DataReader('DAL', 'yahoo', startDate, endDate)\n",
    "print(df.head())\n",
    "\n",
    "df['Swing %'] = (df['High']-df['Low']) / df['Low'] * 100\n",
    "df['Daily % Change'] = (df['Close']-df['Open']) / df['Open'] * 100\n",
    "df = df[['Close','Daily % Change','Swing %','Volume']]\n",
    "print(df.head())\n",
    "\n",
    "pd.set_option('display.float_format', lambda x: '%.2f' % x)\n",
    "df.mean()\n",
    "\n",
    "plt.hist(df['Daily % Change'],100)\n",
    "\n",
    "weekDays = [0] * 5\n",
    "numDays = [0] * 5\n",
    "for i in range(len(df)):\n",
    "    dayindex = df.index[i].weekday()\n",
    "    \n",
    "    if dayindex == 0:\n",
    "        weekDays[0] = weekDays[0] + df.iloc[dayindex]\n",
    "        numDays[0] = numDays[0] + 1\n",
    "    elif dayindex == 1:\n",
    "        weekDays[1] = weekDays[1] + df.iloc[dayindex]\n",
    "        numDays[1] = numDays[1] + 1\n",
    "    elif dayindex == 2:\n",
    "        weekDays[2] = weekDays[2] + df.iloc[dayindex]\n",
    "        numDays[2] = numDays[2] + 1\n",
    "    elif dayindex == 3:\n",
    "        weekDays[3] = weekDays[3] + df.iloc[dayindex]\n",
    "        numDays[3] = numDays[3] + 1\n",
    "    elif dayindex == 4:\n",
    "        weekDays[4] = weekDays[4] + df.iloc[dayindex]\n",
    "        numDays[4] = numDays[4] + 1\n",
    "print(weekDays) \n",
    "print(numDays)\n",
    "\n",
    "avg = [0]*5\n",
    "for i in range(len(weekDays)):\n",
    "    avg[i] = weekDays[i]['Daily % Change'] / numDays[i]\n",
    "print(avg)\n",
    "\n",
    "fig, ax = plt.subplots(figsize = (5,3))\n",
    "days = ['Monday','Tuesday','Wednesday','Thursday','Friday']\n",
    "ax.bar(days,avg)\n",
    "plt.title(follow.iloc[0]['Name'] + \" Percentage Change\")\n",
    "plt.show()"
   ]
  },
  {
   "cell_type": "markdown",
   "metadata": {},
   "source": [
    "    Based on the graph, Thursday is the best day to buy DAL stock and Friday is one of the best days to sell on average. I am planning to buy some DAL this Thursday."
   ]
  },
  {
   "cell_type": "code",
   "execution_count": 26,
   "metadata": {},
   "outputs": [
    {
     "name": "stdout",
     "output_type": "stream",
     "text": [
      "            High   Low  Open  Close     Volume  Adj Close\n",
      "Date                                                     \n",
      "2020-01-02 52.06 51.17 51.20  52.04 7808000.00      50.05\n",
      "2020-01-03 51.45 50.83 51.22  51.20 6706000.00      49.24\n",
      "2020-01-06 51.04 50.46 50.67  51.02 7476700.00      49.07\n",
      "2020-01-07 51.19 50.71 51.04  50.92 4538100.00      48.97\n",
      "2020-01-08 51.79 50.90 50.96  51.57 6185200.00      49.60\n",
      "            Close  Daily % Change  Swing %     Volume\n",
      "Date                                                 \n",
      "2020-01-02  52.04            1.64     1.74 7808000.00\n",
      "2020-01-03  51.20           -0.04     1.22 6706000.00\n",
      "2020-01-06  51.02            0.69     1.15 7476700.00\n",
      "2020-01-07  50.92           -0.24     0.95 4538100.00\n",
      "2020-01-08  51.57            1.20     1.75 6185200.00\n",
      "[Close                 3330.56\n",
      "Daily % Change         105.00\n",
      "Swing %                111.32\n",
      "Volume           499712000.00\n",
      "Name: 2020-01-02 00:00:00, dtype: float64, Close                 3584.00\n",
      "Daily % Change          -2.73\n",
      "Swing %                 85.38\n",
      "Volume           469420000.00\n",
      "Name: 2020-01-03 00:00:00, dtype: float64, Close                 3571.40\n",
      "Daily % Change          48.35\n",
      "Swing %                 80.46\n",
      "Volume           523369000.00\n",
      "Name: 2020-01-06 00:00:00, dtype: float64, Close                 3513.48\n",
      "Daily % Change         -16.22\n",
      "Swing %                 65.31\n",
      "Volume           313128900.00\n",
      "Name: 2020-01-07 00:00:00, dtype: float64, Close                 3352.05\n",
      "Daily % Change          77.81\n",
      "Swing %                113.65\n",
      "Volume           402038000.00\n",
      "Name: 2020-01-08 00:00:00, dtype: float64]\n",
      "[64, 70, 70, 69, 65]\n",
      "[1.640625273576003, -0.03904813995901997, 0.6907485720669887, -0.2351150948853608, 1.197018487658151]\n"
     ]
    },
    {
     "data": {
      "image/png": "[encoded data removed]",
      "text/plain": [
       "<Figure size 432x288 with 1 Axes>"
      ]
     },
     "metadata": {},
     "output_type": "display_data"
    },
    {
     "data": {
      "image/png": "[encoded data removed]",
      "text/plain": [
       "<Figure size 360x216 with 1 Axes>"
      ]
     },
     "metadata": {},
     "output_type": "display_data"
    }
   ],
   "source": [
    "style.use('ggplot')\n",
    "\n",
    "startDate = dt.datetime(2020, 1,1)\n",
    "endDate = dt.datetime(2021,5,5)\n",
    "\n",
    "df = web.DataReader('MS', 'yahoo', startDate, endDate)\n",
    "print(df.head())\n",
    "\n",
    "df['Swing %'] = (df['High']-df['Low']) / df['Low'] * 100\n",
    "df['Daily % Change'] = (df['Close']-df['Open']) / df['Open'] * 100\n",
    "df = df[['Close','Daily % Change','Swing %','Volume']]\n",
    "print(df.head())\n",
    "\n",
    "pd.set_option('display.float_format', lambda x: '%.2f' % x)\n",
    "df.mean()\n",
    "\n",
    "plt.hist(df['Daily % Change'],100)\n",
    "\n",
    "weekDays = [0] * 5\n",
    "numDays = [0] * 5\n",
    "for i in range(len(df)):\n",
    "    dayindex = df.index[i].weekday()\n",
    "    \n",
    "    if dayindex == 0:\n",
    "        weekDays[0] = weekDays[0] + df.iloc[dayindex]\n",
    "        numDays[0] = numDays[0] + 1\n",
    "    elif dayindex == 1:\n",
    "        weekDays[1] = weekDays[1] + df.iloc[dayindex]\n",
    "        numDays[1] = numDays[1] + 1\n",
    "    elif dayindex == 2:\n",
    "        weekDays[2] = weekDays[2] + df.iloc[dayindex]\n",
    "        numDays[2] = numDays[2] + 1\n",
    "    elif dayindex == 3:\n",
    "        weekDays[3] = weekDays[3] + df.iloc[dayindex]\n",
    "        numDays[3] = numDays[3] + 1\n",
    "    elif dayindex == 4:\n",
    "        weekDays[4] = weekDays[4] + df.iloc[dayindex]\n",
    "        numDays[4] = numDays[4] + 1\n",
    "print(weekDays) \n",
    "print(numDays)\n",
    "\n",
    "avg = [0]*5\n",
    "for i in range(len(weekDays)):\n",
    "    avg[i] = weekDays[i]['Daily % Change'] / numDays[i]\n",
    "print(avg)\n",
    "\n",
    "fig, ax = plt.subplots(figsize = (5,3))\n",
    "days = ['Monday','Tuesday','Wednesday','Thursday','Friday']\n",
    "ax.bar(days,avg)\n",
    "plt.title(follow.iloc[2]['Name'] + \" Percentage Change\")\n",
    "plt.show()"
   ]
  },
  {
   "cell_type": "markdown",
   "metadata": {},
   "source": [
    "    Based on the graph, Thursday is the best day to buy MS stock and Monday is one of the best days to sell on average."
   ]
  },
  {
   "cell_type": "code",
   "execution_count": 27,
   "metadata": {},
   "outputs": [
    {
     "name": "stdout",
     "output_type": "stream",
     "text": [
      "            High   Low  Open  Close     Volume  Adj Close\n",
      "Date                                                     \n",
      "2020-01-02 85.13 83.98 85.06  84.66 2121900.00      81.51\n",
      "2020-01-03 84.72 83.93 84.20  84.35 1759900.00      81.21\n",
      "2020-01-06 84.25 83.50 84.15  84.24 1916800.00      81.11\n",
      "2020-01-07 84.35 83.40 84.24  83.56 1701400.00      80.45\n",
      "2020-01-08 84.96 83.62 83.89  84.53 2945900.00      81.38\n",
      "            Close  Daily % Change  Swing %     Volume\n",
      "Date                                                 \n",
      "2020-01-02  84.66           -0.47     1.37 2121900.00\n",
      "2020-01-03  84.35            0.18     0.94 1759900.00\n",
      "2020-01-06  84.24            0.11     0.90 1916800.00\n",
      "2020-01-07  83.56           -0.81     1.14 1701400.00\n",
      "2020-01-08  84.53            0.76     1.60 2945900.00\n",
      "[Close                 5418.24\n",
      "Daily % Change         -30.10\n",
      "Swing %                 87.64\n",
      "Volume           135801600.00\n",
      "Name: 2020-01-02 00:00:00, dtype: float64, Close                 5904.50\n",
      "Daily % Change          12.47\n",
      "Swing %                 65.89\n",
      "Volume           123193000.00\n",
      "Name: 2020-01-03 00:00:00, dtype: float64, Close                 5896.80\n",
      "Daily % Change           7.49\n",
      "Swing %                 62.87\n",
      "Volume           134176000.00\n",
      "Name: 2020-01-06 00:00:00, dtype: float64, Close                 5765.64\n",
      "Daily % Change         -55.70\n",
      "Swing %                 78.60\n",
      "Volume           117396600.00\n",
      "Name: 2020-01-07 00:00:00, dtype: float64, Close                 5494.45\n",
      "Daily % Change          49.59\n",
      "Swing %                104.16\n",
      "Volume           191483500.00\n",
      "Name: 2020-01-08 00:00:00, dtype: float64]\n",
      "[64, 70, 70, 69, 65]\n",
      "[-0.4702491276335143, 0.1781490870731411, 0.10694751783569252, -0.8072178566237106, 0.7629030805874704]\n"
     ]
    },
    {
     "data": {
      "image/png": "[encoded data removed]",
      "text/plain": [
       "<Figure size 432x288 with 1 Axes>"
      ]
     },
     "metadata": {},
     "output_type": "display_data"
    },
    {
     "data": {
      "image/png": "[encoded data removed]",
      "text/plain": [
       "<Figure size 360x216 with 1 Axes>"
      ]
     },
     "metadata": {},
     "output_type": "display_data"
    }
   ],
   "source": [
    "style.use('ggplot')\n",
    "\n",
    "startDate = dt.datetime(2020, 1,1)\n",
    "endDate = dt.datetime(2021,5,5)\n",
    "\n",
    "df = web.DataReader('SYY', 'yahoo', startDate, endDate)\n",
    "print(df.head())\n",
    "\n",
    "df['Swing %'] = (df['High']-df['Low']) / df['Low'] * 100\n",
    "df['Daily % Change'] = (df['Close']-df['Open']) / df['Open'] * 100\n",
    "df = df[['Close','Daily % Change','Swing %','Volume']]\n",
    "print(df.head())\n",
    "\n",
    "pd.set_option('display.float_format', lambda x: '%.2f' % x)\n",
    "df.mean()\n",
    "\n",
    "plt.hist(df['Daily % Change'],100)\n",
    "\n",
    "weekDays = [0] * 5\n",
    "numDays = [0] * 5\n",
    "for i in range(len(df)):\n",
    "    dayindex = df.index[i].weekday()\n",
    "    \n",
    "    if dayindex == 0:\n",
    "        weekDays[0] = weekDays[0] + df.iloc[dayindex]\n",
    "        numDays[0] = numDays[0] + 1\n",
    "    elif dayindex == 1:\n",
    "        weekDays[1] = weekDays[1] + df.iloc[dayindex]\n",
    "        numDays[1] = numDays[1] + 1\n",
    "    elif dayindex == 2:\n",
    "        weekDays[2] = weekDays[2] + df.iloc[dayindex]\n",
    "        numDays[2] = numDays[2] + 1\n",
    "    elif dayindex == 3:\n",
    "        weekDays[3] = weekDays[3] + df.iloc[dayindex]\n",
    "        numDays[3] = numDays[3] + 1\n",
    "    elif dayindex == 4:\n",
    "        weekDays[4] = weekDays[4] + df.iloc[dayindex]\n",
    "        numDays[4] = numDays[4] + 1\n",
    "print(weekDays) \n",
    "print(numDays)\n",
    "\n",
    "avg = [0]*5\n",
    "for i in range(len(weekDays)):\n",
    "    avg[i] = weekDays[i]['Daily % Change'] / numDays[i]\n",
    "print(avg)\n",
    "\n",
    "fig, ax = plt.subplots(figsize = (5,3))\n",
    "days = ['Monday','Tuesday','Wednesday','Thursday','Friday']\n",
    "ax.bar(days,avg)\n",
    "plt.title(follow.iloc[3]['Name'] + \" Percentage Change\")\n",
    "plt.show()"
   ]
  },
  {
   "cell_type": "markdown",
   "metadata": {},
   "source": [
    "    Based on the graph, Thursday is the best day to buy SYY stock and Friday is one of the best days to sell on average. This stock looks to have a more negative trend comparied to the other stocks\n",
    "    "
   ]
  },
  {
   "cell_type": "code",
   "execution_count": 28,
   "metadata": {},
   "outputs": [
    {
     "name": "stdout",
     "output_type": "stream",
     "text": [
      "            High   Low  Open  Close      Volume  Adj Close\n",
      "Date                                                      \n",
      "2020-01-02 71.02 70.24 70.24  70.90 12456400.00      63.63\n",
      "2020-01-03 71.37 70.16 71.34  70.33 17386900.00      63.12\n",
      "2020-01-06 71.36 70.23 70.32  70.87 20081900.00      63.61\n",
      "2020-01-07 70.52 69.51 70.50  70.29 17387700.00      63.09\n",
      "2020-01-08 70.29 69.17 70.11  69.23 15137700.00      62.13\n",
      "            Close  Daily % Change  Swing %      Volume\n",
      "Date                                                  \n",
      "2020-01-02  70.90            0.94     1.11 12456400.00\n",
      "2020-01-03  70.33           -1.42     1.72 17386900.00\n",
      "2020-01-06  70.87            0.78     1.61 20081900.00\n",
      "2020-01-07  70.29           -0.30     1.45 17387700.00\n",
      "2020-01-08  69.23           -1.26     1.62 15137700.00\n",
      "[Close                 4537.60\n",
      "Daily % Change          60.14\n",
      "Swing %                 71.07\n",
      "Volume           797209600.00\n",
      "Name: 2020-01-02 00:00:00, dtype: float64, Close                  4923.10\n",
      "Daily % Change          -99.10\n",
      "Swing %                 120.72\n",
      "Volume           1217083000.00\n",
      "Name: 2020-01-03 00:00:00, dtype: float64, Close                  4960.90\n",
      "Daily % Change           54.75\n",
      "Swing %                 112.63\n",
      "Volume           1405733000.00\n",
      "Name: 2020-01-06 00:00:00, dtype: float64, Close                  4850.01\n",
      "Daily % Change          -20.55\n",
      "Swing %                 100.26\n",
      "Volume           1199751300.00\n",
      "Name: 2020-01-07 00:00:00, dtype: float64, Close                 4499.95\n",
      "Daily % Change         -81.59\n",
      "Swing %                105.25\n",
      "Volume           983950500.00\n",
      "Name: 2020-01-08 00:00:00, dtype: float64]\n",
      "[64, 70, 70, 69, 65]\n",
      "[0.9396407775943434, -1.4157479095629002, 0.7821431372934081, -0.29787104180518625, -1.2551665179818006]\n"
     ]
    },
    {
     "data": {
      "image/png": "[encoded data removed]",
      "text/plain": [
       "<Figure size 432x288 with 1 Axes>"
      ]
     },
     "metadata": {},
     "output_type": "display_data"
    },
    {
     "data": {
      "image/png": "[encoded data removed]",
      "text/plain": [
       "<Figure size 360x216 with 1 Axes>"
      ]
     },
     "metadata": {},
     "output_type": "display_data"
    }
   ],
   "source": [
    "style.use('ggplot')\n",
    "\n",
    "startDate = dt.datetime(2020, 1,1)\n",
    "endDate = dt.datetime(2021,5,5)\n",
    "\n",
    "df = web.DataReader('XOM', 'yahoo', startDate, endDate)\n",
    "print(df.head())\n",
    "\n",
    "df['Swing %'] = (df['High']-df['Low']) / df['Low'] * 100\n",
    "df['Daily % Change'] = (df['Close']-df['Open']) / df['Open'] * 100\n",
    "df = df[['Close','Daily % Change','Swing %','Volume']]\n",
    "print(df.head())\n",
    "\n",
    "pd.set_option('display.float_format', lambda x: '%.2f' % x)\n",
    "df.mean()\n",
    "\n",
    "plt.hist(df['Daily % Change'],100)\n",
    "\n",
    "weekDays = [0] * 5\n",
    "numDays = [0] * 5\n",
    "for i in range(len(df)):\n",
    "    dayindex = df.index[i].weekday()\n",
    "    \n",
    "    if dayindex == 0:\n",
    "        weekDays[0] = weekDays[0] + df.iloc[dayindex]\n",
    "        numDays[0] = numDays[0] + 1\n",
    "    elif dayindex == 1:\n",
    "        weekDays[1] = weekDays[1] + df.iloc[dayindex]\n",
    "        numDays[1] = numDays[1] + 1\n",
    "    elif dayindex == 2:\n",
    "        weekDays[2] = weekDays[2] + df.iloc[dayindex]\n",
    "        numDays[2] = numDays[2] + 1\n",
    "    elif dayindex == 3:\n",
    "        weekDays[3] = weekDays[3] + df.iloc[dayindex]\n",
    "        numDays[3] = numDays[3] + 1\n",
    "    elif dayindex == 4:\n",
    "        weekDays[4] = weekDays[4] + df.iloc[dayindex]\n",
    "        numDays[4] = numDays[4] + 1\n",
    "print(weekDays) \n",
    "print(numDays)\n",
    "\n",
    "avg = [0]*5\n",
    "for i in range(len(weekDays)):\n",
    "    avg[i] = weekDays[i]['Daily % Change'] / numDays[i]\n",
    "print(avg)\n",
    "\n",
    "fig, ax = plt.subplots(figsize = (5,3))\n",
    "days = ['Monday','Tuesday','Wednesday','Thursday','Friday']\n",
    "ax.bar(days,avg)\n",
    "plt.title(follow.iloc[4]['Name'] + \" Percentage Change\")\n",
    "plt.show()"
   ]
  },
  {
   "cell_type": "markdown",
   "metadata": {},
   "source": [
    "    Based on the graph, Tuesday is the best day to buy XOM stock and Monday is one of the best days to sell on average. This stock also looks to have a more negative trend comparied to the other stocks and is not something that would be most profitable in the long run."
   ]
  },
  {
   "cell_type": "code",
   "execution_count": 29,
   "metadata": {},
   "outputs": [
    {
     "name": "stdout",
     "output_type": "stream",
     "text": [
      "             High    Low   Open  Close     Volume  Adj Close\n",
      "Date                                                        \n",
      "2020-01-02 205.64 202.60 203.82 205.64  638200.00     200.01\n",
      "2020-01-03 203.23 200.51 201.91 202.64  542600.00     197.09\n",
      "2020-01-06 204.32 200.92 201.48 204.25 1006900.00     198.66\n",
      "2020-01-07 205.27 202.25 204.50 203.83  708700.00     198.25\n",
      "2020-01-08 206.80 200.52 202.78 205.38  671100.00     199.76\n",
      "            Close  Daily % Change  Swing %     Volume\n",
      "Date                                                 \n",
      "2020-01-02 205.64            0.89     1.50  638200.00\n",
      "2020-01-03 202.64            0.36     1.36  542600.00\n",
      "2020-01-06 204.25            1.37     1.69 1006900.00\n",
      "2020-01-07 203.83           -0.33     1.49  708700.00\n",
      "2020-01-08 205.38            1.28     3.13  671100.00\n",
      "[Close               13160.96\n",
      "Daily % Change         57.15\n",
      "Swing %                96.03\n",
      "Volume           40844800.00\n",
      "Name: 2020-01-02 00:00:00, dtype: float64, Close               14184.80\n",
      "Daily % Change         25.31\n",
      "Swing %                94.96\n",
      "Volume           37982000.00\n",
      "Name: 2020-01-03 00:00:00, dtype: float64, Close               14297.50\n",
      "Daily % Change         96.24\n",
      "Swing %               118.46\n",
      "Volume           70483000.00\n",
      "Name: 2020-01-06 00:00:00, dtype: float64, Close               14064.27\n",
      "Daily % Change        -22.61\n",
      "Swing %               103.03\n",
      "Volume           48900300.00\n",
      "Name: 2020-01-07 00:00:00, dtype: float64, Close               13349.70\n",
      "Daily % Change         83.34\n",
      "Swing %               203.57\n",
      "Volume           43621500.00\n",
      "Name: 2020-01-08 00:00:00, dtype: float64]\n",
      "[64, 70, 70, 69, 65]\n",
      "[0.8929408301583502, 0.3615451014307783, 1.3748284351796418, -0.32762746647692575, 1.2821807471975761]\n"
     ]
    },
    {
     "data": {
      "image/png": "[encoded data removed]",
      "text/plain": [
       "<Figure size 432x288 with 1 Axes>"
      ]
     },
     "metadata": {},
     "output_type": "display_data"
    },
    {
     "data": {
      "image/png": "[encoded data removed]",
      "text/plain": [
       "<Figure size 360x216 with 1 Axes>"
      ]
     },
     "metadata": {},
     "output_type": "display_data"
    }
   ],
   "source": [
    "style.use('ggplot')\n",
    "\n",
    "startDate = dt.datetime(2020, 1,1)\n",
    "endDate = dt.datetime(2021,5,5)\n",
    "\n",
    "df = web.DataReader('ROK', 'yahoo', startDate, endDate)\n",
    "print(df.head())\n",
    "\n",
    "df['Swing %'] = (df['High']-df['Low']) / df['Low'] * 100\n",
    "df['Daily % Change'] = (df['Close']-df['Open']) / df['Open'] * 100\n",
    "df = df[['Close','Daily % Change','Swing %','Volume']]\n",
    "print(df.head())\n",
    "\n",
    "pd.set_option('display.float_format', lambda x: '%.2f' % x)\n",
    "df.mean()\n",
    "\n",
    "plt.hist(df['Daily % Change'],100)\n",
    "\n",
    "weekDays = [0] * 5\n",
    "numDays = [0] * 5\n",
    "for i in range(len(df)):\n",
    "    dayindex = df.index[i].weekday()\n",
    "    \n",
    "    if dayindex == 0:\n",
    "        weekDays[0] = weekDays[0] + df.iloc[dayindex]\n",
    "        numDays[0] = numDays[0] + 1\n",
    "    elif dayindex == 1:\n",
    "        weekDays[1] = weekDays[1] + df.iloc[dayindex]\n",
    "        numDays[1] = numDays[1] + 1\n",
    "    elif dayindex == 2:\n",
    "        weekDays[2] = weekDays[2] + df.iloc[dayindex]\n",
    "        numDays[2] = numDays[2] + 1\n",
    "    elif dayindex == 3:\n",
    "        weekDays[3] = weekDays[3] + df.iloc[dayindex]\n",
    "        numDays[3] = numDays[3] + 1\n",
    "    elif dayindex == 4:\n",
    "        weekDays[4] = weekDays[4] + df.iloc[dayindex]\n",
    "        numDays[4] = numDays[4] + 1\n",
    "print(weekDays) \n",
    "print(numDays)\n",
    "\n",
    "avg = [0]*5\n",
    "for i in range(len(weekDays)):\n",
    "    avg[i] = weekDays[i]['Daily % Change'] / numDays[i]\n",
    "print(avg)\n",
    "\n",
    "fig, ax = plt.subplots(figsize = (5,3))\n",
    "days = ['Monday','Tuesday','Wednesday','Thursday','Friday']\n",
    "ax.bar(days,avg)\n",
    "plt.title(follow.iloc[6]['Name'] + \" Percentage Change\")\n",
    "plt.show()"
   ]
  },
  {
   "cell_type": "markdown",
   "metadata": {},
   "source": [
    "    Based on the graph, Thursday is the best day to buy ROK stock and Wednesday is one of the best days to sell on average."
   ]
  },
  {
   "cell_type": "markdown",
   "metadata": {},
   "source": [
    "### Week 4 (Final Week)\n",
    "    To finish off this project. I am going to try to predit the future with some machine learning using the past stock data. I want to take a look into Delta Airlines as they are the company that I have gained the most profit from."
   ]
  },
  {
   "cell_type": "code",
   "execution_count": 124,
   "metadata": {},
   "outputs": [
    {
     "name": "stdout",
     "output_type": "stream",
     "text": [
      "            High   Low  Open  Close     Volume  Adj Close\n",
      "Date                                                     \n",
      "2020-01-02 59.39 58.45 58.93  59.04 4459200.00      58.63\n",
      "2020-01-03 58.12 56.91 57.50  58.06 9078100.00      57.66\n",
      "2020-01-06 57.76 56.66 56.99  57.66 5504300.00      57.26\n",
      "2020-01-07 58.07 57.47 57.91  57.61 5563000.00      57.21\n",
      "2020-01-08 59.40 57.73 57.75  58.85 8519000.00      58.45\n"
     ]
    }
   ],
   "source": [
    "import numpy as np\n",
    "from sklearn.preprocessing import MinMaxScaler\n",
    "from tensorflow.keras.models import Sequential\n",
    "from tensorflow.keras.layers import Dense, Dropout, LSTM\n",
    "\n",
    "startDate = dt.datetime(2020, 1,1)\n",
    "endDate = dt.datetime(2021, 5, 5)\n",
    "\n",
    "df = web.DataReader('DAL', 'yahoo', startDate, endDate)\n",
    "print(df.head())\n",
    "\n",
    "# Prepare Data\n",
    "scaler = MinMaxScaler(feature_range=(0,1))\n",
    "scaled_data = scaler.fit_transform(df['Close'].values.reshape(-1,1))\n",
    "\n",
    "prediction_days = 30\n",
    "\n",
    "x_train = []\n",
    "y_train = []\n",
    "\n",
    "for x in range(prediction_days, len(scaled_data)):\n",
    "    x_train.append(scaled_data[x-prediction_days:x, 0])\n",
    "    y_train.append(scaled_data[x, 0])"
   ]
  },
  {
   "cell_type": "code",
   "execution_count": 129,
   "metadata": {},
   "outputs": [
    {
     "name": "stdout",
     "output_type": "stream",
     "text": [
      "Epoch 1/75\n",
      "62/62 [==============================] - 9s 22ms/step - loss: 0.0304\n",
      "Epoch 2/75\n",
      "62/62 [==============================] - 1s 21ms/step - loss: 0.0128\n",
      "Epoch 3/75\n",
      "62/62 [==============================] - 1s 22ms/step - loss: 0.0101\n",
      "Epoch 4/75\n",
      "62/62 [==============================] - 1s 22ms/step - loss: 0.0095\n",
      "Epoch 5/75\n",
      "62/62 [==============================] - 1s 21ms/step - loss: 0.0082\n",
      "Epoch 6/75\n",
      "62/62 [==============================] - 1s 22ms/step - loss: 0.0073\n",
      "Epoch 7/75\n",
      "62/62 [==============================] - 1s 21ms/step - loss: 0.0081\n",
      "Epoch 8/75\n",
      "62/62 [==============================] - 2s 24ms/step - loss: 0.0082\n",
      "Epoch 9/75\n",
      "62/62 [==============================] - 2s 24ms/step - loss: 0.0086\n",
      "Epoch 10/75\n",
      "62/62 [==============================] - 2s 35ms/step - loss: 0.0066\n",
      "Epoch 11/75\n",
      "62/62 [==============================] - 2s 24ms/step - loss: 0.0071\n",
      "Epoch 12/75\n",
      "62/62 [==============================] - 1s 22ms/step - loss: 0.0081\n",
      "Epoch 13/75\n",
      "62/62 [==============================] - 1s 21ms/step - loss: 0.0059\n",
      "Epoch 14/75\n",
      "62/62 [==============================] - 1s 21ms/step - loss: 0.0056\n",
      "Epoch 15/75\n",
      "62/62 [==============================] - 1s 21ms/step - loss: 0.0059\n",
      "Epoch 16/75\n",
      "62/62 [==============================] - 1s 22ms/step - loss: 0.0055\n",
      "Epoch 17/75\n",
      "62/62 [==============================] - 1s 23ms/step - loss: 0.0054\n",
      "Epoch 18/75\n",
      "62/62 [==============================] - 1s 22ms/step - loss: 0.0051\n",
      "Epoch 19/75\n",
      "62/62 [==============================] - 1s 21ms/step - loss: 0.0070\n",
      "Epoch 20/75\n",
      "62/62 [==============================] - 1s 21ms/step - loss: 0.0055\n",
      "Epoch 21/75\n",
      "62/62 [==============================] - 1s 21ms/step - loss: 0.0055\n",
      "Epoch 22/75\n",
      "62/62 [==============================] - 1s 21ms/step - loss: 0.0057\n",
      "Epoch 23/75\n",
      "62/62 [==============================] - 1s 21ms/step - loss: 0.0056\n",
      "Epoch 24/75\n",
      "62/62 [==============================] - 1s 24ms/step - loss: 0.0049\n",
      "Epoch 25/75\n",
      "62/62 [==============================] - 1s 21ms/step - loss: 0.0054\n",
      "Epoch 26/75\n",
      "62/62 [==============================] - 1s 21ms/step - loss: 0.0052\n",
      "Epoch 27/75\n",
      "62/62 [==============================] - 1s 21ms/step - loss: 0.0049\n",
      "Epoch 28/75\n",
      "62/62 [==============================] - 1s 20ms/step - loss: 0.0048\n",
      "Epoch 29/75\n",
      "62/62 [==============================] - 1s 21ms/step - loss: 0.0050\n",
      "Epoch 30/75\n",
      "62/62 [==============================] - 1s 21ms/step - loss: 0.0051\n",
      "Epoch 31/75\n",
      "62/62 [==============================] - 1s 21ms/step - loss: 0.0045\n",
      "Epoch 32/75\n",
      "62/62 [==============================] - 1s 21ms/step - loss: 0.0041\n",
      "Epoch 33/75\n",
      "62/62 [==============================] - 1s 21ms/step - loss: 0.0042\n",
      "Epoch 34/75\n",
      "62/62 [==============================] - 1s 21ms/step - loss: 0.0041\n",
      "Epoch 35/75\n",
      "62/62 [==============================] - 1s 21ms/step - loss: 0.0044\n",
      "Epoch 36/75\n",
      "62/62 [==============================] - 1s 21ms/step - loss: 0.0045\n",
      "Epoch 37/75\n",
      "62/62 [==============================] - 1s 21ms/step - loss: 0.0038\n",
      "Epoch 38/75\n",
      "62/62 [==============================] - 1s 21ms/step - loss: 0.0035\n",
      "Epoch 39/75\n",
      "62/62 [==============================] - 1s 21ms/step - loss: 0.0035\n",
      "Epoch 40/75\n",
      "62/62 [==============================] - 1s 21ms/step - loss: 0.0039: 0s\n",
      "Epoch 41/75\n",
      "62/62 [==============================] - 1s 21ms/step - loss: 0.0035\n",
      "Epoch 42/75\n",
      "62/62 [==============================] - 1s 21ms/step - loss: 0.0035\n",
      "Epoch 43/75\n",
      "62/62 [==============================] - 1s 21ms/step - loss: 0.0038\n",
      "Epoch 44/75\n",
      "62/62 [==============================] - 1s 21ms/step - loss: 0.0038\n",
      "Epoch 45/75\n",
      "62/62 [==============================] - 1s 21ms/step - loss: 0.0034\n",
      "Epoch 46/75\n",
      "62/62 [==============================] - 1s 21ms/step - loss: 0.0034\n",
      "Epoch 47/75\n",
      "62/62 [==============================] - 1s 20ms/step - loss: 0.0033: 0s -\n",
      "Epoch 48/75\n",
      "62/62 [==============================] - 1s 21ms/step - loss: 0.0032\n",
      "Epoch 49/75\n",
      "62/62 [==============================] - 1s 21ms/step - loss: 0.0034\n",
      "Epoch 50/75\n",
      "62/62 [==============================] - 1s 20ms/step - loss: 0.0033\n",
      "Epoch 51/75\n",
      "62/62 [==============================] - 1s 21ms/step - loss: 0.0030\n",
      "Epoch 52/75\n",
      "62/62 [==============================] - 1s 21ms/step - loss: 0.0028\n",
      "Epoch 53/75\n",
      "62/62 [==============================] - 1s 21ms/step - loss: 0.0028\n",
      "Epoch 54/75\n",
      "62/62 [==============================] - 1s 21ms/step - loss: 0.0029\n",
      "Epoch 55/75\n",
      "62/62 [==============================] - 1s 21ms/step - loss: 0.0029\n",
      "Epoch 56/75\n",
      "62/62 [==============================] - 1s 21ms/step - loss: 0.0029: 0\n",
      "Epoch 57/75\n",
      "62/62 [==============================] - 1s 21ms/step - loss: 0.0026\n",
      "Epoch 58/75\n",
      "62/62 [==============================] - 1s 21ms/step - loss: 0.0029\n",
      "Epoch 59/75\n",
      "62/62 [==============================] - 1s 21ms/step - loss: 0.0031\n",
      "Epoch 60/75\n",
      "62/62 [==============================] - 1s 21ms/step - loss: 0.0030\n",
      "Epoch 61/75\n",
      "62/62 [==============================] - 1s 22ms/step - loss: 0.0030\n",
      "Epoch 62/75\n",
      "62/62 [==============================] - 1s 23ms/step - loss: 0.0028\n",
      "Epoch 63/75\n",
      "62/62 [==============================] - 1s 22ms/step - loss: 0.0025\n",
      "Epoch 64/75\n",
      "62/62 [==============================] - 1s 22ms/step - loss: 0.0030\n",
      "Epoch 65/75\n",
      "62/62 [==============================] - 1s 22ms/step - loss: 0.0027\n",
      "Epoch 66/75\n",
      "62/62 [==============================] - 1s 21ms/step - loss: 0.0026\n",
      "Epoch 67/75\n",
      "62/62 [==============================] - 1s 22ms/step - loss: 0.0027\n",
      "Epoch 68/75\n",
      "62/62 [==============================] - 1s 21ms/step - loss: 0.0029\n",
      "Epoch 69/75\n",
      "62/62 [==============================] - 1s 21ms/step - loss: 0.0024\n",
      "Epoch 70/75\n",
      "62/62 [==============================] - 1s 23ms/step - loss: 0.0024\n",
      "Epoch 71/75\n",
      "62/62 [==============================] - 1s 21ms/step - loss: 0.0024\n",
      "Epoch 72/75\n",
      "62/62 [==============================] - 1s 21ms/step - loss: 0.0024\n",
      "Epoch 73/75\n",
      "62/62 [==============================] - 1s 22ms/step - loss: 0.0024\n",
      "Epoch 74/75\n",
      "62/62 [==============================] - 1s 21ms/step - loss: 0.0022\n",
      "Epoch 75/75\n",
      "62/62 [==============================] - 1s 21ms/step - loss: 0.0023\n"
     ]
    },
    {
     "data": {
      "text/plain": [
       "<tensorflow.python.keras.callbacks.History at 0x17fff9d1820>"
      ]
     },
     "execution_count": 129,
     "metadata": {},
     "output_type": "execute_result"
    }
   ],
   "source": [
    "x_train, y_train = np.array(x_train), np.array(y_train)\n",
    "x_train = np.reshape(x_train, (x_train.shape[0], x_train.shape[1], 1))\n",
    "\n",
    "# Build the Model\n",
    "model = Sequential()\n",
    "\n",
    "model.add(LSTM(units=50, return_sequences=True, input_shape=(x_train.shape[1],1)))\n",
    "model.add(Dropout(0.2))\n",
    "model.add(LSTM(units=50, return_sequences=True))\n",
    "model.add(Dropout(0.2))\n",
    "model.add(LSTM(units=50))\n",
    "model.add(Dropout(0.2))\n",
    "model.add(Dense(units=1))\n",
    "          \n",
    "model.compile(optimizer='adam', loss='mean_squared_error')\n",
    "model.fit(x_train, y_train, epochs=75, batch_size=5)\n",
    "\n"
   ]
  },
  {
   "cell_type": "code",
   "execution_count": 130,
   "metadata": {},
   "outputs": [
    {
     "name": "stdout",
     "output_type": "stream",
     "text": [
      "22\n"
     ]
    },
    {
     "data": {
      "image/png": "[encoded data removed]",
      "text/plain": [
       "<Figure size 432x288 with 1 Axes>"
      ]
     },
     "metadata": {},
     "output_type": "display_data"
    }
   ],
   "source": [
    "# Testing and Visualizing\n",
    "test_start = dt.datetime(2021,4,18)\n",
    "test_end = dt.datetime.now()\n",
    "\n",
    "testData = web.DataReader('DAL', 'yahoo', test_start, test_end)\n",
    "actual_prices = testData['Close'].values\n",
    "\n",
    "total_dataset = pd.concat((df['Close'], testData['Close']), axis=0)\n",
    "\n",
    "model_inputs = total_dataset[len(total_dataset)- len(testData) - prediction_days:].values\n",
    "model_inputs = model_inputs.reshape(-1,1)\n",
    "model_inputs = scaler.transform(model_inputs)\n",
    "\n",
    "x_test = []\n",
    "for x in range(prediction_days, len(model_inputs)):\n",
    "    x_test.append(model_inputs[x-prediction_days:x, 0])\n",
    "\n",
    "x_test = np.array(x_test)\n",
    "print(len(x_test))\n",
    "x_test = np.reshape(x_test, (x_test.shape[0], x_test.shape[1], 1))\n",
    "\n",
    "predicted_prices = model.predict(x_test)\n",
    "predicted_prices = scaler.inverse_transform(predicted_prices)\n",
    "\n",
    "plt.plot(actual_prices, color = 'black', label=f\"Actual\")\n",
    "plt.plot(predicted_prices, color = 'blue', label=f\"Predicted\")\n",
    "plt.xlabel('Time')\n",
    "plt.ylabel('Share Price')\n",
    "plt.legend()\n",
    "plt.show()"
   ]
  },
  {
   "cell_type": "code",
   "execution_count": null,
   "metadata": {},
   "outputs": [],
   "source": []
  },
  {
   "cell_type": "code",
   "execution_count": null,
   "metadata": {},
   "outputs": [],
   "source": []
  }
 ],
 "metadata": {
  "kernelspec": {
   "display_name": "Python 3",
   "language": "python",
   "name": "python3"
  },
  "language_info": {
   "codemirror_mode": {
    "name": "ipython",
    "version": 3
   },
   "file_extension": ".py",
   "mimetype": "text/x-python",
   "name": "python",
   "nbconvert_exporter": "python",
   "pygments_lexer": "ipython3",
   "version": "3.8.5"
  }
 },
 "nbformat": 4,
 "nbformat_minor": 4
}
